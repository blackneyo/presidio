{
 "cells": [
  {
   "cell_type": "markdown",
   "id": "086a6a05",
   "metadata": {},
   "source": [
    "# 식별된 모든 텍스트 목록 가져오기\n",
    "\n",
    "이 샘플은 탐지를 위해 Presidio Analyzer와 맞춤형 Presidio Anonymizer 연산자를 사용하여 식별된 모든 PII 엔터티 목록을 가져오는 방법을 보여줍니다."
   ]
  },
  {
   "cell_type": "code",
   "execution_count": 1,
   "id": "b56b6045",
   "metadata": {},
   "outputs": [],
   "source": [
    "from presidio_analyzer import AnalyzerEngine\n",
    "from presidio_anonymizer import AnonymizerEngine\n",
    "from presidio_anonymizer.entities import OperatorConfig"
   ]
  },
  {
   "cell_type": "code",
   "execution_count": 2,
   "id": "f3610a56",
   "metadata": {},
   "outputs": [],
   "source": [
    "analyzer = AnalyzerEngine()\n",
    "anonymizer = AnonymizerEngine()"
   ]
  },
  {
   "cell_type": "code",
   "execution_count": 3,
   "id": "df4157a8",
   "metadata": {},
   "outputs": [],
   "source": [
    "text_to_analyze = \"Hi my name is Charles Darwin and my email is cdarwin@hmsbeagle.org\"\n",
    "analyzer_results = analyzer.analyze(text_to_analyze, language=\"en\")\n"
   ]
  },
  {
   "cell_type": "markdown",
   "id": "98cafb1c",
   "metadata": {},
   "source": [
    "텍스트 값을 얻기 위한 순진한 접근 방식:"
   ]
  },
  {
   "cell_type": "code",
   "execution_count": 4,
   "id": "a0e2fec6",
   "metadata": {},
   "outputs": [
    {
     "data": {
      "text/plain": [
       "[('cdarwin@hmsbeagle.org', 45, 66),\n",
       " ('Charles Darwin', 14, 28),\n",
       " ('hmsbeagle.org', 53, 66)]"
      ]
     },
     "execution_count": 4,
     "metadata": {},
     "output_type": "execute_result"
    }
   ],
   "source": [
    "[(text_to_analyze[res.start:res.end], res.start, res.end) for res in analyzer_results]"
   ]
  },
  {
   "cell_type": "markdown",
   "id": "ed5f2319",
   "metadata": {},
   "source": [
    "또 다른 옵션은 식별 기능( lambda x: x)을 실행하는 사용자 정의 연산자*를 설정하는 것입니다. 이 연산자는 실제로 익명화하지 않지만 식별된 값을 자체로 바꿉니다. Anonymizer가 겹침을 자동으로 처리하므로 유용합니다.\n",
    "\n",
    "* Operator일반적으로 Anonymizer또는 Deanonymizerpresidio-anonymizer 라이브러리에 있습니다/"
   ]
  },
  {
   "cell_type": "code",
   "execution_count": 5,
   "id": "f623a77e",
   "metadata": {},
   "outputs": [],
   "source": [
    "anonymized_results = anonymizer.anonymize(\n",
    "        text=text_to_analyze,\n",
    "        analyzer_results=analyzer_results,            \n",
    "        operators={\"DEFAULT\": OperatorConfig(\"custom\", {\"lambda\": lambda x: x})}        \n",
    "    )"
   ]
  },
  {
   "cell_type": "markdown",
   "id": "09fb481d",
   "metadata": {},
   "source": [
    "여기에 정의된 연산자는 이며 DEFAULT, 이는 모든 엔터티에 사용됨을 의미합니다.\n",
    "\n",
    "OperatorConfig사용자 지정 함수이고 labmda는 식별 함수입니다.\n",
    "\n",
    "감지된 각 개체에 대한 출력 텍스트, 시작 및 종료 위치"
   ]
  },
  {
   "cell_type": "code",
   "execution_count": 6,
   "id": "22f89196",
   "metadata": {},
   "outputs": [
    {
     "data": {
      "text/plain": [
       "[('cdarwin@hmsbeagle.org', 45, 66), ('Charles Darwin', 14, 28)]"
      ]
     },
     "execution_count": 6,
     "metadata": {},
     "output_type": "execute_result"
    }
   ],
   "source": [
    "[(item.text, item.start, item.end) for item in anonymized_results.items]"
   ]
  },
  {
   "cell_type": "code",
   "execution_count": null,
   "id": "a47fcc94",
   "metadata": {},
   "outputs": [],
   "source": []
  }
 ],
 "metadata": {
  "kernelspec": {
   "display_name": "Python 3 (ipykernel)",
   "language": "python",
   "name": "python3"
  },
  "language_info": {
   "codemirror_mode": {
    "name": "ipython",
    "version": 3
   },
   "file_extension": ".py",
   "mimetype": "text/x-python",
   "name": "python",
   "nbconvert_exporter": "python",
   "pygments_lexer": "ipython3",
   "version": "3.8.13"
  }
 },
 "nbformat": 4,
 "nbformat_minor": 5
}
