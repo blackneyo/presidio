{
 "cells": [
  {
   "cell_type": "markdown",
   "id": "a91efc25",
   "metadata": {},
   "source": [
    "이 예에서는 감지된 경우 PII로 표시해야 하는 짧은 토큰 목록을 전달합니다. 먼저 PII로 처리하려는 토큰을 정의하겠습니다. 이 경우 제목 목록이 됩니다."
   ]
  },
  {
   "cell_type": "code",
   "execution_count": 2,
   "id": "3136372f",
   "metadata": {},
   "outputs": [],
   "source": [
    "titles_list = [\n",
    "    \"Sir\",\n",
    "    \"Ma'am\",\n",
    "    \"Madam\",\n",
    "    \"Mr.\",\n",
    "    \"Mrs.\",\n",
    "    \"Ms.\",\n",
    "    \"Miss\",\n",
    "    \"Dr.\",\n",
    "    \"Professor\",\n",
    "]\n"
   ]
  },
  {
   "cell_type": "markdown",
   "id": "26735f4a",
   "metadata": {},
   "source": [
    "PatternRecognizer두 번째로 다음 을 전달하여 해당 제목을 스캔 하는 which를 생성해 보겠습니다 deny_list."
   ]
  },
  {
   "cell_type": "code",
   "execution_count": 3,
   "id": "ce83e71f",
   "metadata": {},
   "outputs": [],
   "source": [
    "from presidio_analyzer import PatternRecognizer\n",
    "\n",
    "titles_recognizer = PatternRecognizer(supported_entity=\"TITLE\", deny_list=titles_list)"
   ]
  },
  {
   "cell_type": "markdown",
   "id": "ac2615ef",
   "metadata": {},
   "source": [
    "이 시점에서 인식기를 직접 호출할 수 있습니다."
   ]
  },
  {
   "cell_type": "code",
   "execution_count": 4,
   "id": "29b5510e",
   "metadata": {},
   "outputs": [
    {
     "name": "stdout",
     "output_type": "stream",
     "text": [
      "Result:\n",
      " [type: TITLE, start: 10, end: 19, score: 1.0]\n"
     ]
    }
   ],
   "source": [
    "from presidio_analyzer import PatternRecognizer\n",
    "\n",
    "text1 = \"I suspect Professor Plum, in the Dining Room, with the candlestick\"\n",
    "result = titles_recognizer.analyze(text1, entities=[\"TITLE\"])\n",
    "print(f\"Result:\\n {result}\")\n"
   ]
  },
  {
   "cell_type": "markdown",
   "id": "ad37410f",
   "metadata": {},
   "source": [
    "마지막으로 이 새로운 인식기를 Presidio에서 사용하는 인식기 목록에 추가해 보겠습니다 AnalyzerEngine."
   ]
  },
  {
   "cell_type": "code",
   "execution_count": 5,
   "id": "787380c4",
   "metadata": {},
   "outputs": [],
   "source": [
    "from presidio_analyzer import AnalyzerEngine\n",
    "\n",
    "analyzer = AnalyzerEngine()\n",
    "analyzer.registry.add_recognizer(titles_recognizer)"
   ]
  },
  {
   "cell_type": "markdown",
   "id": "fcac852a",
   "metadata": {},
   "source": [
    "를 초기화할 때 AnalyzerEnginePresidio는 NlpEngine엔티티를 감지하고 토큰, 보조 정리 및 기타 언어 기능을 추출하는 데 사용되는 것을 포함하여 사용 가능한 모든 인식기를 로드합니다.\n",
    "\n",
    "새 인식기를 제자리에 놓고 분석기를 실행해 보겠습니다."
   ]
  },
  {
   "cell_type": "code",
   "execution_count": 6,
   "id": "ade641ce",
   "metadata": {},
   "outputs": [],
   "source": [
    "results = analyzer.analyze(text=text1, language=\"en\")"
   ]
  },
  {
   "cell_type": "code",
   "execution_count": 7,
   "id": "e38d1a6f",
   "metadata": {},
   "outputs": [
    {
     "name": "stdout",
     "output_type": "stream",
     "text": [
      "Results:\n",
      "[type: TITLE, start: 10, end: 19, score: 1.0, type: PERSON, start: 20, end: 24, score: 0.85]\n"
     ]
    }
   ],
   "source": [
    "print(\"Results:\")\n",
    "print(results)"
   ]
  },
  {
   "cell_type": "markdown",
   "id": "cf7df201",
   "metadata": {},
   "source": [
    "예상대로 \"Plum\"이라는 이름과 제목이 모두 PII로 식별되었습니다."
   ]
  },
  {
   "cell_type": "code",
   "execution_count": 8,
   "id": "68e04eb2",
   "metadata": {},
   "outputs": [
    {
     "name": "stdout",
     "output_type": "stream",
     "text": [
      "Identified these PII entities:\n",
      "- Professor as TITLE\n",
      "- Plum as PERSON\n"
     ]
    }
   ],
   "source": [
    "print(\"Identified these PII entities:\")\n",
    "for result in results:\n",
    "    print(f\"- {text1[result.start:result.end]} as {result.entity_type}\")"
   ]
  }
 ],
 "metadata": {
  "kernelspec": {
   "display_name": "Python 3 (ipykernel)",
   "language": "python",
   "name": "python3"
  },
  "language_info": {
   "codemirror_mode": {
    "name": "ipython",
    "version": 3
   },
   "file_extension": ".py",
   "mimetype": "text/x-python",
   "name": "python",
   "nbconvert_exporter": "python",
   "pygments_lexer": "ipython3",
   "version": "3.8.13"
  }
 },
 "nbformat": 4,
 "nbformat_minor": 5
}
