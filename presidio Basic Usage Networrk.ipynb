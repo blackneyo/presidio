{
 "cells": [
  {
   "cell_type": "code",
   "execution_count": 1,
   "id": "1a5fa6e9",
   "metadata": {},
   "outputs": [],
   "source": [
    "from presidio_analyzer import AnalyzerEngine, PatternRecognizer\n",
    "from presidio_anonymizer import AnonymizerEngine\n",
    "from presidio_anonymizer.entities import OperatorConfig\n",
    "import json\n",
    "from pprint import pprint"
   ]
  },
  {
   "cell_type": "markdown",
   "id": "50d21ea7",
   "metadata": {},
   "source": [
    "# PII 엔터티에 대한 텍스트 분석\n",
    "\n",
    "Presidio Analyzer를 사용하여 텍스트를 분석하여 PII 엔터티를 식별합니다.\n",
    "\n",
    "Presidio 분석기는 미리 정의된 엔터티 인식기를 사용하고 있으며 사용자 지정 인식기를 만드는 옵션을 제공합니다.\n",
    "\n",
    "다음 코드 샘플은 다음을 수행합니다.\n",
    "\n",
    "1. 분석기 엔진 설정: NLP 모듈(기본적으로 spaCy 모델) 및 기타 PII 인식기 로드\n",
    "\n",
    "2. \"PHONE_NUMBER\" 항목 유형에 대한 분석 결과를 얻으려면 분석기를 호출하세요."
   ]
  },
  {
   "cell_type": "code",
   "execution_count": 2,
   "id": "e8be3b06",
   "metadata": {},
   "outputs": [],
   "source": [
    "text_to_anonymize = \"His name is Mr. Jones and his phone number is 212-555-5555\""
   ]
  },
  {
   "cell_type": "code",
   "execution_count": 3,
   "id": "eb3e2b9e",
   "metadata": {},
   "outputs": [
    {
     "name": "stdout",
     "output_type": "stream",
     "text": [
      "[type: PHONE_NUMBER, start: 46, end: 58, score: 0.75]\n"
     ]
    }
   ],
   "source": [
    "analyzer = AnalyzerEngine()\n",
    "analyzer_results = analyzer.analyze(text=text_to_anonymize, entities=[\"PHONE_NUMBER\"], language='en')\n",
    "\n",
    "print(analyzer_results)"
   ]
  },
  {
   "cell_type": "markdown",
   "id": "ef41d7b6",
   "metadata": {},
   "source": [
    "# 사용자 지정 PII 엔터티 인식기 만들기\n",
    "\n",
    "Presidio Analyzer는 사전 정의된 엔티티 인식기 세트와 함께 제공됩니다.\n",
    "\n",
    "또한 사용자 지정 인식기를 생성 하여 분석기 기본 코드를 변경하지 않고 새 인식기를 추가할 수 있습니다 .\n",
    "\n",
    "PatternRecognizer다음 예 에서는 분석된 텍스트에서 제목과 대명사를 식별하기 위해 두 개의 새로운 유형의 인식기를 생성 합니다.\n",
    "\n",
    "A PatternRecognizer는 정규식 또는 거부 목록을 사용하는 PII 엔터티 인식기입니다.\n",
    "\n",
    "다음 코드 샘플은 다음을 수행합니다.\n",
    "\n",
    "1. 사용자 지정 인식기 만들기\n",
    "\n",
    "2. 분석기에 새 사용자 정의 인식기 추가\n",
    "\n",
    "3. 새 인식기에서 결과를 얻으려면 분석기를 호출하세요."
   ]
  },
  {
   "cell_type": "code",
   "execution_count": 4,
   "id": "7540e14b",
   "metadata": {},
   "outputs": [
    {
     "name": "stdout",
     "output_type": "stream",
     "text": [
      "[type: PRONOUN, start: 0, end: 3, score: 1.0, type: TITLE, start: 12, end: 15, score: 1.0, type: PRONOUN, start: 26, end: 29, score: 1.0]\n"
     ]
    }
   ],
   "source": [
    "titles_recognizer = PatternRecognizer(supported_entity=\"TITLE\",\n",
    "                                      deny_list=[\"Mr.\",\"Mrs.\",\"Miss\"])\n",
    "\n",
    "pronoun_recognizer = PatternRecognizer(supported_entity=\"PRONOUN\",\n",
    "                                       deny_list=[\"he\", \"He\", \"his\", \"His\", \"she\", \"She\", \"hers\" \"Hers\"])\n",
    "\n",
    "analyzer.registry.add_recognizer(titles_recognizer)\n",
    "analyzer.registry.add_recognizer(pronoun_recognizer)\n",
    "\n",
    "analyzer_results = analyzer.analyze(text=text_to_anonymize,\n",
    "                            entities=[\"TITLE\", \"PRONOUN\"],\n",
    "                            language=\"en\")\n",
    "print(analyzer_results)\n"
   ]
  },
  {
   "cell_type": "markdown",
   "id": "d99aef9e",
   "metadata": {},
   "source": [
    "Presidio Analyzer를 호출하고 구성된 모든 인식기(기본 및 새 사용자 정의 인식기)로 분석 결과를 얻으십시오."
   ]
  },
  {
   "cell_type": "code",
   "execution_count": 5,
   "id": "8a810507",
   "metadata": {},
   "outputs": [
    {
     "data": {
      "text/plain": [
       "[type: PRONOUN, start: 0, end: 3, score: 1.0,\n",
       " type: TITLE, start: 12, end: 15, score: 1.0,\n",
       " type: PRONOUN, start: 26, end: 29, score: 1.0,\n",
       " type: PERSON, start: 16, end: 21, score: 0.85,\n",
       " type: PHONE_NUMBER, start: 46, end: 58, score: 0.75]"
      ]
     },
     "execution_count": 5,
     "metadata": {},
     "output_type": "execute_result"
    }
   ],
   "source": [
    "analyzer_results = analyzer.analyze(text=text_to_anonymize, language='en')\n",
    "\n",
    "analyzer_results"
   ]
  },
  {
   "cell_type": "markdown",
   "id": "b9153710",
   "metadata": {},
   "source": [
    "# 식별된 PII 엔티티로 텍스트 익명화\n",
    "\n",
    "Presidio Anonymizer는 Presidio Analyzer 결과를 반복하고 식별된 텍스트에 대한 익명화 기능을 제공합니다.\n",
    "\n",
    "익명화는 대체, 수정, 마스크, 해시 및 암호화의 5가지 유형의 익명화 도구를 제공합니다. 기본값은 교체 입니다.\n",
    "\n",
    "\n",
    "다음 코드 샘플은 다음을 수행합니다.\n",
    "\n",
    "1. 익명화 엔진 설정\n",
    "\n",
    "2. 익명화 요청 생성 - 익명화할 텍스트, 적용할 익명화 목록 및 분석기 요청 결과\n",
    "\n",
    "3. 텍스트를 익명화"
   ]
  },
  {
   "cell_type": "code",
   "execution_count": 6,
   "id": "dc7d6e43",
   "metadata": {},
   "outputs": [
    {
     "name": "stdout",
     "output_type": "stream",
     "text": [
      "text: <PRONOUN> name is  <PERSON> and <PRONOUN> phone number is ************\n",
      "detailed response:\n",
      "{'items': [{'end': 70,\n",
      "            'entity_type': 'PHONE_NUMBER',\n",
      "            'operator': 'mask',\n",
      "            'start': 58,\n",
      "            'text': '************'},\n",
      "           {'end': 41,\n",
      "            'entity_type': 'PRONOUN',\n",
      "            'operator': 'replace',\n",
      "            'start': 32,\n",
      "            'text': '<PRONOUN>'},\n",
      "           {'end': 27,\n",
      "            'entity_type': 'PERSON',\n",
      "            'operator': 'replace',\n",
      "            'start': 19,\n",
      "            'text': '<PERSON>'},\n",
      "           {'end': 18,\n",
      "            'entity_type': 'TITLE',\n",
      "            'operator': 'redact',\n",
      "            'start': 18,\n",
      "            'text': ''},\n",
      "           {'end': 9,\n",
      "            'entity_type': 'PRONOUN',\n",
      "            'operator': 'replace',\n",
      "            'start': 0,\n",
      "            'text': '<PRONOUN>'}],\n",
      " 'text': '<PRONOUN> name is  <PERSON> and <PRONOUN> phone number is '\n",
      "         '************'}\n"
     ]
    }
   ],
   "source": [
    "anonymizer = AnonymizerEngine()\n",
    "\n",
    "anonymized_results = anonymizer.anonymize(\n",
    "    text=text_to_anonymize,\n",
    "    analyzer_results=analyzer_results,    \n",
    "    operators={\"DEFAULT\": OperatorConfig(\"replace\", {\"new_value\": \"\"}), \n",
    "                        \"PHONE_NUMBER\": OperatorConfig(\"mask\", {\"type\": \"mask\", \"masking_char\" : \"*\", \"chars_to_mask\" : 12, \"from_end\" : True}),\n",
    "                        \"TITLE\": OperatorConfig(\"redact\", {})}\n",
    ")\n",
    "\n",
    "print(f\"text: {anonymized_results.text}\")\n",
    "print(\"detailed response:\")\n",
    "\n",
    "pprint(json.loads(anonymized_results.to_json()))"
   ]
  },
  {
   "cell_type": "code",
   "execution_count": null,
   "id": "ab980f17",
   "metadata": {},
   "outputs": [],
   "source": []
  }
 ],
 "metadata": {
  "kernelspec": {
   "display_name": "Python 3 (ipykernel)",
   "language": "python",
   "name": "python3"
  },
  "language_info": {
   "codemirror_mode": {
    "name": "ipython",
    "version": 3
   },
   "file_extension": ".py",
   "mimetype": "text/x-python",
   "name": "python",
   "nbconvert_exporter": "python",
   "pygments_lexer": "ipython3",
   "version": "3.8.13"
  }
 },
 "nbformat": 4,
 "nbformat_minor": 5
}
