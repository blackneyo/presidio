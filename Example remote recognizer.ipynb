{
 "cells": [
  {
   "cell_type": "code",
   "execution_count": null,
   "id": "5bf1acb3",
   "metadata": {},
   "outputs": [],
   "source": [
    "\"\"\" \n",
    "RemoteRecognizer의 구현 예.\n",
    "\n",
    "\n",
    "원격 인식기 는 추가 PII 식별 기능을 얻기 위해 \n",
    "외부 API를 호출 합니다. 이 결과는 다른 인식기에서 수집한 다른 모든 결과에 추가됩니다 .\n",
    "\n",
    "\n",
    "실제 호출 로직(예: HTTP 또는 gRPC) \n",
    "은 이 클래스 내에서 구현되어야 합니다. \n",
    "이 예에서는 `requests` 패키지를 사용하여 POST 요청을 수행합니다. \n",
    "흐름: \n",
    "1. '로드' 중에 'supported_entities'를 호출 \n",
    "하여 이 서비스가 감지할 수 있는 목록을 가져옵니다. \n",
    "2. 'supported_entities' 엔드포인트에서 오는 응답을 번역합니다. \n",
    "3. '분석' 중에 PII 감지기에 POST 요청을 수행합니다. 끝점 \n",
    "4. PII 감지기 끝점에서 오는 응답을 \n",
    "List[RecognizerResult]로 변환합니다. \n",
    "5. 결과 반환\n",
    "\n",
    "\n",
    "참고: 이 예에서는 Presidio Analyzer 자체를 사용하여 외부 PII 감지기를 모방 합니다.\n",
    "\n",
    "\"\""
   ]
  },
  {
   "cell_type": "code",
   "execution_count": null,
   "id": "2195eaeb",
   "metadata": {},
   "outputs": [],
   "source": [
    "import json\n",
    "import logging\n",
    "from typing import List"
   ]
  },
  {
   "cell_type": "code",
   "execution_count": null,
   "id": "b13f82ec",
   "metadata": {},
   "outputs": [],
   "source": [
    "import requests"
   ]
  },
  {
   "cell_type": "code",
   "execution_count": null,
   "id": "ef971fd9",
   "metadata": {},
   "outputs": [],
   "source": [
    "from presidio_analyzer import RemoteRecognizer, RecognizerResult\n",
    "from presidio_analyzer.nlp_engine import NlpArtifacts"
   ]
  },
  {
   "cell_type": "code",
   "execution_count": null,
   "id": "f8075a7e",
   "metadata": {},
   "outputs": [],
   "source": [
    "logger = logging.getLogger(\"presidio-analyzer\")"
   ]
  },
  {
   "cell_type": "code",
   "execution_count": null,
   "id": "9d5a2424",
   "metadata": {},
   "outputs": [],
   "source": [
    "class ExampleRemoteRecognizer(RemoteRecognizer):\n",
    "    \"\"\"\n",
    "    A reference implementation of a remote recognizer.\n",
    "\n",
    "    Calls Presidio analyzer as if it was an external remote PII detector\n",
    "    :param pii_identification_url: Service URL for detecting PII\n",
    "    :param supported_entities_url: Service URL for getting the supported entities\n",
    "    by this service\n",
    "    \"\"\"\n",
    "\n",
    "    def __init__(\n",
    "        self,\n",
    "        pii_identification_url: str = \"https://MYPIISERVICE_URL/detect\",\n",
    "        supported_entities_url: str = \"https://MYPIISERVICE_URL/supported_entities\",\n",
    "    ):\n",
    "        self.pii_identification_url = pii_identification_url\n",
    "        self.supported_entities_url = supported_entities_url\n",
    "\n",
    "        super().__init__(\n",
    "            supported_entities=[], name=None, supported_language=\"en\", version=\"1.0\"\n",
    "        )\n",
    "\n",
    "    def load(self) -> None:\n",
    "        \"\"\"Call the get_supported_entities API of the external service.\"\"\"\n",
    "        try:\n",
    "            response = requests.get(\n",
    "                self.supported_entities_url,\n",
    "                params={\"language\": self.supported_language},\n",
    "            )\n",
    "            self.supported_entities = self._supported_entities_from_response(response)\n",
    "\n",
    "        except requests.exceptions.RequestException as e:\n",
    "            logger.error(f\"Failed to get supported entities from external service. {e}\")\n",
    "            self.supported_language = []\n",
    "\n",
    "    def analyze(\n",
    "        self, text: str, entities: List[str], nlp_artifacts: NlpArtifacts\n",
    "    ) -> List[RecognizerResult]:\n",
    "        \"\"\"Call an external service for PII detection.\"\"\"\n",
    "\n",
    "        payload = {\"text\": text, \"language\": self.supported_language}\n",
    "\n",
    "        response = requests.post(\n",
    "            self.pii_identification_url,\n",
    "            json=payload,\n",
    "            timeout=200,\n",
    "        )\n",
    "\n",
    "        results = self._recognizer_results_from_response(response)\n",
    "\n",
    "        return results\n",
    "\n",
    "    def get_supported_entities(self) -> List[str]:\n",
    "        \"\"\"Return the list of supported entities.\"\"\"\n",
    "        return self.supported_entities\n",
    "\n",
    "    @staticmethod\n",
    "    def _recognizer_results_from_response(\n",
    "        response: requests.Response,\n",
    "    ) -> List[RecognizerResult]:\n",
    "        \"\"\"Translate the service's response to a list of RecognizerResult.\"\"\"\n",
    "        results = json.loads(response.text)\n",
    "        recognizer_results = [RecognizerResult(**result) for result in results]\n",
    "\n",
    "        return recognizer_results\n",
    "\n",
    "    @staticmethod\n",
    "    def _supported_entities_from_response(response: requests.Response) -> List[str]:\n",
    "        \"\"\"Translate the service's supported entities list to Presidio's.\"\"\"\n",
    "        return json.loads(response.text)"
   ]
  },
  {
   "cell_type": "code",
   "execution_count": null,
   "id": "3f8eca14",
   "metadata": {},
   "outputs": [],
   "source": [
    "if __name__ == \"__main__\":\n",
    "\n",
    "    # Illustrative example only: Run Presidio analyzer\n",
    "    # as if it was an external PII detection mechanism.\n",
    "    rec = ExampleRemoteRecognizer(\n",
    "        pii_identification_url=\"http://localhost:5002/analyze\",\n",
    "        supported_entities_url=\"http://localhost:5002/supportedentities\",\n",
    "    )\n",
    "\n",
    "    remote_results = rec.analyze(\n",
    "        text=\"My name is Morris\", entities=[\"PERSON\"], nlp_artifacts=None\n",
    "    )\n",
    "    print(remote_results)"
   ]
  },
  {
   "cell_type": "code",
   "execution_count": null,
   "id": "d3df756f",
   "metadata": {},
   "outputs": [],
   "source": []
  }
 ],
 "metadata": {
  "kernelspec": {
   "display_name": "Python 3 (ipykernel)",
   "language": "python",
   "name": "python3"
  },
  "language_info": {
   "codemirror_mode": {
    "name": "ipython",
    "version": 3
   },
   "file_extension": ".py",
   "mimetype": "text/x-python",
   "name": "python",
   "nbconvert_exporter": "python",
   "pygments_lexer": "ipython3",
   "version": "3.8.13"
  }
 },
 "nbformat": 4,
 "nbformat_minor": 5
}
