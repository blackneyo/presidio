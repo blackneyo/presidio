{
 "cells": [
  {
   "cell_type": "markdown",
   "id": "c1ce6260",
   "metadata": {},
   "source": [
    "Presidio-anonymizer는 식별된 엔터티에서 수행할 임의의 작업을 허용할 수 있습니다. 이러한 작업은 람다 함수의 형태로 전달할 수 있습니다.\n",
    "\n",
    "다음 예에서는 가짜 값을 사용하여 가명화를 수행합니다. 먼저 연산자를 살펴보겠습니다."
   ]
  },
  {
   "cell_type": "code",
   "execution_count": 1,
   "id": "541e659b",
   "metadata": {},
   "outputs": [
    {
     "name": "stdout",
     "output_type": "stream",
     "text": [
      "My name is Tracy Allen and I like to fish.\n"
     ]
    }
   ],
   "source": [
    "from presidio_anonymizer import AnonymizerEngine\n",
    "from presidio_anonymizer.entities import OperatorConfig, EngineResult, RecognizerResult\n",
    "from faker import Faker\n",
    "\n",
    "\n",
    "fake = Faker()\n",
    "\n",
    "# Create faker function (note that it has to receive a value)\n",
    "def fake_name(x):\n",
    "    return fake.name()\n",
    "\n",
    "\n",
    "# Create custom operator for the PERSON entity\n",
    "operators = {\"PERSON\": OperatorConfig(\"custom\", {\"lambda\": fake_name})}\n",
    "\n",
    "# Analyzer output\n",
    "analyzer_results = [RecognizerResult(entity_type=\"PERSON\", start=11, end=18, score=0.8)]\n",
    "\n",
    "text_to_anonymize = \"My name is Raphael and I like to fish.\"\n",
    "\n",
    "anonymizer = AnonymizerEngine()\n",
    "\n",
    "anonymized_results = anonymizer.anonymize(\n",
    "    text=text_to_anonymize, analyzer_results=analyzer_results, operators=operators\n",
    ")\n",
    "\n",
    "print(anonymized_results.text)\n"
   ]
  },
  {
   "cell_type": "markdown",
   "id": "bbdb461c",
   "metadata": {},
   "source": [
    "이것은 간단한 예이지만 다음은 고급 익명화 옵션에 대한 몇 가지 예입니다.\n",
    "\n",
    "1. 성별을 식별하고 동일한 성별에서 임의의 값을 생성합니다(예: Laura -> Pam).\n",
    "\n",
    "2. 날짜 패턴 식별 및 날짜 이동 수행(01-01-2020 -> 05-01-2020)\n",
    "\n",
    "3. 나이와 버킷을 10년 단위로 식별(89 -> 80-90)"
   ]
  },
  {
   "cell_type": "code",
   "execution_count": 2,
   "id": "da3a30f1",
   "metadata": {},
   "outputs": [],
   "source": [
    "from presidio_anonymizer import AnonymizerEngine, DeanonymizeEngine\n",
    "from presidio_anonymizer.entities import (\n",
    "    RecognizerResult,\n",
    "    OperatorResult,\n",
    "    OperatorConfig,\n",
    ")\n"
   ]
  },
  {
   "cell_type": "markdown",
   "id": "0b4e57f1",
   "metadata": {},
   "source": [
    "# 암호화 및 복호화\n",
    "\n",
    "이 샘플은 Presidio Anonymizer 내장 기능을 사용하여 식별된 엔터티를 암호화하고 해독하는 방법을 보여줍니다.\n",
    "\n",
    "암호화는 CBC 모드에서 AES 암호를 사용하며 암호화 및 암호 해독 모두에 대한 입력으로 암호화 키가 필요합니다."
   ]
  },
  {
   "cell_type": "code",
   "execution_count": null,
   "id": "fc6c7bdb",
   "metadata": {},
   "outputs": [],
   "source": []
  }
 ],
 "metadata": {
  "kernelspec": {
   "display_name": "Python 3 (ipykernel)",
   "language": "python",
   "name": "python3"
  },
  "language_info": {
   "codemirror_mode": {
    "name": "ipython",
    "version": 3
   },
   "file_extension": ".py",
   "mimetype": "text/x-python",
   "name": "python",
   "nbconvert_exporter": "python",
   "pygments_lexer": "ipython3",
   "version": "3.8.13"
  }
 },
 "nbformat": 4,
 "nbformat_minor": 5
}
