{
 "cells": [
  {
   "cell_type": "markdown",
   "id": "c1ce6260",
   "metadata": {},
   "source": [
    "Presidio-anonymizer는 식별된 엔터티에서 수행할 임의의 작업을 허용할 수 있습니다. 이러한 작업은 람다 함수의 형태로 전달할 수 있습니다.\n",
    "\n",
    "다음 예에서는 가짜 값을 사용하여 가명화를 수행합니다. 먼저 연산자를 살펴보겠습니다."
   ]
  },
  {
   "cell_type": "code",
   "execution_count": 1,
   "id": "541e659b",
   "metadata": {},
   "outputs": [
    {
     "name": "stdout",
     "output_type": "stream",
     "text": [
      "My name is Wendy Carr and I like to fish.\n"
     ]
    }
   ],
   "source": [
    "from presidio_anonymizer import AnonymizerEngine\n",
    "from presidio_anonymizer.entities import OperatorConfig, EngineResult, RecognizerResult\n",
    "from faker import Faker\n",
    "\n",
    "\n",
    "fake = Faker()\n",
    "\n",
    "# Create faker function (note that it has to receive a value)\n",
    "def fake_name(x):\n",
    "    return fake.name()\n",
    "\n",
    "\n",
    "# Create custom operator for the PERSON entity\n",
    "operators = {\"PERSON\": OperatorConfig(\"custom\", {\"lambda\": fake_name})}\n",
    "\n",
    "# Analyzer output\n",
    "analyzer_results = [RecognizerResult(entity_type=\"PERSON\", start=11, end=18, score=0.8)]\n",
    "\n",
    "text_to_anonymize = \"My name is Raphael and I like to fish.\"\n",
    "\n",
    "anonymizer = AnonymizerEngine()\n",
    "\n",
    "anonymized_results = anonymizer.anonymize(\n",
    "    text=text_to_anonymize, analyzer_results=analyzer_results, operators=operators\n",
    ")\n",
    "\n",
    "print(anonymized_results.text)\n"
   ]
  },
  {
   "cell_type": "markdown",
   "id": "bbdb461c",
   "metadata": {},
   "source": [
    "이것은 간단한 예이지만 다음은 고급 익명화 옵션에 대한 몇 가지 예입니다.\n",
    "\n",
    "1. 성별을 식별하고 동일한 성별에서 임의의 값을 생성합니다(예: Laura -> Pam).\n",
    "\n",
    "2. 날짜 패턴 식별 및 날짜 이동 수행(01-01-2020 -> 05-01-2020)\n",
    "\n",
    "3. 나이와 버킷을 10년 단위로 식별(89 -> 80-90)"
   ]
  },
  {
   "cell_type": "markdown",
   "id": "0b4e57f1",
   "metadata": {},
   "source": [
    "# 암호화 및 복호화\n",
    "\n",
    "이 샘플은 Presidio Anonymizer 내장 기능을 사용하여 식별된 엔터티를 암호화하고 해독하는 방법을 보여줍니다.\n",
    "\n",
    "암호화는 CBC 모드에서 AES 암호를 사용하며 암호화 및 암호 해독 모두에 대한 입력으로 암호화 키가 필요합니다."
   ]
  },
  {
   "cell_type": "markdown",
   "id": "49acabc4",
   "metadata": {},
   "source": [
    "# 가져오기 설정"
   ]
  },
  {
   "cell_type": "code",
   "execution_count": 2,
   "id": "da3a30f1",
   "metadata": {},
   "outputs": [],
   "source": [
    "from presidio_anonymizer import AnonymizerEngine, DeanonymizeEngine\n",
    "from presidio_anonymizer.entities import (\n",
    "    RecognizerResult,\n",
    "    OperatorResult,\n",
    "    OperatorConfig,\n",
    ")\n"
   ]
  },
  {
   "cell_type": "markdown",
   "id": "e5085506",
   "metadata": {},
   "source": [
    "# 암호화 키 정의 (암호화 및 복호화 모두)"
   ]
  },
  {
   "cell_type": "code",
   "execution_count": 8,
   "id": "b598d05c",
   "metadata": {},
   "outputs": [],
   "source": [
    "crypto_key = \"WmZq4t7w!z%C&F)J\""
   ]
  },
  {
   "cell_type": "markdown",
   "id": "142729f7",
   "metadata": {},
   "source": [
    "# Presidio Anonymizer : 암호화 "
   ]
  },
  {
   "cell_type": "code",
   "execution_count": 9,
   "id": "dd10fa37",
   "metadata": {},
   "outputs": [
    {
     "data": {
      "text/plain": [
       "text: My name is LNT7NqECytEygKJq2YWmVAmtY+pZn3R7qmpvqB2PaJ4=\n",
       "items:\n",
       "[\n",
       "    {'start': 11, 'end': 55, 'entity_type': 'PERSON', 'text': 'LNT7NqECytEygKJq2YWmVAmtY+pZn3R7qmpvqB2PaJ4=', 'operator': 'encrypt'}\n",
       "]"
      ]
     },
     "execution_count": 9,
     "metadata": {},
     "output_type": "execute_result"
    }
   ],
   "source": [
    "engine = AnonymizerEngine()\n",
    "\n",
    "# Invoke the anonymize function with the text\n",
    "# analyzer results (potentially coming from presidio-analyzer)\n",
    "# and an 'encrypt' operator to get an encrypted anonymization output:\n",
    "anonymize_result = engine.anonymize(\n",
    "    text=\"My name is James Bond\",\n",
    "    analyzer_results=[\n",
    "        RecognizerResult(entity_type=\"PERSON\", start=11, end=21, score=0.8),\n",
    "    ],\n",
    "    operators={\"PERSON\" : OperatorConfig(\"encrypt\", {\"key\" : crypto_key})},\n",
    ")\n",
    "\n",
    "anonymize_result"
   ]
  },
  {
   "cell_type": "markdown",
   "id": "42eee9bd",
   "metadata": {},
   "source": [
    "출력에는 익명화된 텍스트와 암호화된 엔터티의 위치가 모두 포함됩니다.\n",
    "\n",
    "이것은 전체 텍스트가 아닌 엔터티만 해독해야 하므로 유용합니다."
   ]
  },
  {
   "cell_type": "code",
   "execution_count": 10,
   "id": "8c859e51",
   "metadata": {},
   "outputs": [],
   "source": [
    "# Fetch the anonymized text from the result.\n",
    "anonymized_text = anonymize_result.text\n",
    "\n",
    "# Fetch the anonynized entities from the result.\n",
    "anonymized_entities = anonymize_result.items"
   ]
  },
  {
   "cell_type": "markdown",
   "id": "8297355d",
   "metadata": {},
   "source": [
    "# Presidio Anonymizer: 복호화"
   ]
  },
  {
   "cell_type": "code",
   "execution_count": 11,
   "id": "c8bbb2b4",
   "metadata": {},
   "outputs": [
    {
     "data": {
      "text/plain": [
       "text: My name is James Bond\n",
       "items:\n",
       "[\n",
       "    {'start': 11, 'end': 21, 'entity_type': 'PERSON', 'text': 'James Bond', 'operator': 'decrypt'}\n",
       "]"
      ]
     },
     "execution_count": 11,
     "metadata": {},
     "output_type": "execute_result"
    }
   ],
   "source": [
    "# Initialize the engine:\n",
    "engine = DeanonymizeEngine()\n",
    "\n",
    "# Invoke the deanonymize function with the text, anonymizer results\n",
    "# and a 'decrypt' operator to get the original text as output.\n",
    "deanonymized_result = engine.deanonymize(\n",
    "    text=anonymized_text,\n",
    "    entities=anonymized_entities,\n",
    "    operators={\"DEFAULT\" : OperatorConfig(\"decrypt\", {\"key\" : crypto_key})},\n",
    ")\n",
    "\n",
    "deanonymized_result"
   ]
  },
  {
   "cell_type": "markdown",
   "id": "d2cd43ef",
   "metadata": {},
   "source": [
    "call Decrypt operator directly"
   ]
  },
  {
   "cell_type": "code",
   "execution_count": null,
   "id": "cc412043",
   "metadata": {},
   "outputs": [],
   "source": []
  }
 ],
 "metadata": {
  "kernelspec": {
   "display_name": "Python 3 (ipykernel)",
   "language": "python",
   "name": "python3"
  },
  "language_info": {
   "codemirror_mode": {
    "name": "ipython",
    "version": 3
   },
   "file_extension": ".py",
   "mimetype": "text/x-python",
   "name": "python",
   "nbconvert_exporter": "python",
   "pygments_lexer": "ipython3",
   "version": "3.8.13"
  }
 },
 "nbformat": 4,
 "nbformat_minor": 5
}
