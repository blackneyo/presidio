{
 "cells": [
  {
   "cell_type": "markdown",
   "id": "e7bed4f9",
   "metadata": {},
   "source": [
    "이 샘플은 테이블 또는 데이터 프레임의 익명화를 처리하기 위해 Presidio가 잠재적으로 어떻게 확장될 수 있는지 보여줍니다.\n",
    "\n",
    "목록과 사전 모두의 분석 및 익명화 방법을 소개합니다.\n",
    "\n",
    "이 예제에서는 기본 Presidio 클래스를 구현하는 두 개의 클래스를 만듭니다.\n",
    "\n",
    "1. BatchAnalyzerEngine(AnalyzerEngine): presidio-analyzer\n",
    "\n",
    "2. BatchAnonymizerEngine(AnonymizerEngine): presidio-anonymizer\n",
    "\n",
    "또한 둘 사이의 데이터 전송 객체 역할을 하기 위해 dataclass( )를 생성합니다.DictAnalyzerResult\n",
    "\n",
    "참고: 여기에서 이 샘플 입력은 Pandas DataFrame이지만 SQL 데이터 쿼리 또는 Spark DataFrames 사용과 같은 다른 시나리오에서 사용할 수 있습니다."
   ]
  },
  {
   "cell_type": "code",
   "execution_count": 1,
   "id": "9880d304",
   "metadata": {},
   "outputs": [],
   "source": [
    "from typing import List, Optional, Dict, Union, Iterator, Iterable\n",
    "import collections\n",
    "from dataclasses import dataclass\n",
    "import pprint\n",
    "\n",
    "import pandas as pd\n",
    "\n",
    "from presidio_analyzer import AnalyzerEngine, RecognizerResult\n",
    "from presidio_anonymizer import AnonymizerEngine\n",
    "from presidio_anonymizer.entities import EngineResult\n"
   ]
  },
  {
   "cell_type": "markdown",
   "id": "14069cd3",
   "metadata": {},
   "source": [
    "일괄 처리를 위한 클래스 설정"
   ]
  },
  {
   "cell_type": "markdown",
   "id": "ed450128",
   "metadata": {},
   "source": [
    "# Presidio Analyzer: 배치 모드"
   ]
  },
  {
   "cell_type": "code",
   "execution_count": 2,
   "id": "1055e520",
   "metadata": {},
   "outputs": [],
   "source": [
    "@dataclass\n",
    "class DictAnalyzerResult:\n",
    "    \"\"\"Hold the analyzer results per value or list of values.\"\"\"\n",
    "    key: str\n",
    "    value: Union[str, List[str]]\n",
    "    recognizer_results: Union[List[RecognizerResult], List[List[RecognizerResult]]]\n",
    "\n",
    "\n",
    "class BatchAnalyzerEngine(AnalyzerEngine):\n",
    "    \"\"\"\n",
    "    Class inheriting from AnalyzerEngine and adds the funtionality to analyze lists or dictionaries.\n",
    "    \"\"\"\n",
    "    \n",
    "    def analyze_list(self, list_of_texts: Iterable[str], **kwargs) -> List[List[RecognizerResult]]:\n",
    "        \"\"\"\n",
    "        Analyze an iterable of strings\n",
    "        \n",
    "        :param list_of_texts: An iterable containing strings to be analyzed.\n",
    "        :param kwargs: Additional parameters for the `AnalyzerEngine.analyze` method.\n",
    "        \"\"\"\n",
    "        \n",
    "        list_results = []\n",
    "        for text in list_of_texts:\n",
    "            results = self.analyze(text=text, **kwargs) if isinstance(text, str) else []\n",
    "            list_results.append(results)\n",
    "        return list_results\n",
    "\n",
    "    def analyze_dict(\n",
    "     self, input_dict: Dict[str, Union[object, Iterable[object]]], **kwargs) -> Iterator[DictAnalyzerResult]:\n",
    "        \"\"\"\n",
    "        Analyze a dictionary of keys (strings) and values (either object or Iterable[object]). \n",
    "        Non-string values are returned as is.\n",
    "        \n",
    "        :param input_dict: The input dictionary for analysis\n",
    "        :param kwargs: Additional keyword arguments for the `AnalyzerEngine.analyze` method\n",
    "        \"\"\"\n",
    "        \n",
    "        for key, value in input_dict.items():\n",
    "            if not value:\n",
    "                results = []\n",
    "            else:\n",
    "                if isinstance(value, str):\n",
    "                    results: List[RecognizerResult] = self.analyze(text=value, **kwargs)\n",
    "                elif isinstance(value, collections.abc.Iterable):\n",
    "                    results: List[List[RecognizerResult]] = self.analyze_list(\n",
    "                                list_of_texts=value, \n",
    "                                **kwargs)\n",
    "                else:\n",
    "                    results = []\n",
    "            yield DictAnalyzerResult(key=key, value=value, recognizer_results=results)\n"
   ]
  },
  {
   "cell_type": "markdown",
   "id": "ddb6e9ad",
   "metadata": {},
   "source": [
    "# Presidio 익명화"
   ]
  },
  {
   "cell_type": "code",
   "execution_count": 3,
   "id": "a4f9d6a8",
   "metadata": {},
   "outputs": [],
   "source": [
    "class BatchAnonymizerEngine(AnonymizerEngine):\n",
    "    \"\"\"\n",
    "    Class inheriting from the AnonymizerEngine and adding additional functionality \n",
    "    for anonymizing lists or dictionaries.\n",
    "    \"\"\"\n",
    "    \n",
    "    def anonymize_list(\n",
    "        self, \n",
    "        texts:List[str], \n",
    "        recognizer_results_list: List[List[RecognizerResult]], \n",
    "        **kwargs\n",
    "    ) -> List[EngineResult]:\n",
    "        \"\"\"\n",
    "        Anonymize a list of strings.\n",
    "        \n",
    "        :param texts: List containing the texts to be anonymized (original texts)\n",
    "        :param recognizer_results_list: A list of lists of RecognizerResult, \n",
    "        the output of the AnalyzerEngine on each text in the list.\n",
    "        :param kwargs: Additional kwargs for the `AnonymizerEngine.anonymize` method\n",
    "        \"\"\"\n",
    "        return_list = []\n",
    "        for text, recognizer_results in zip(texts, recognizer_results_list):\n",
    "            if isinstance(text,str):\n",
    "                res = self.anonymize(text=text,analyzer_results=recognizer_results,**kwargs)\n",
    "                return_list.append(res.text)\n",
    "            else:\n",
    "                return_list.append(text)\n",
    "\n",
    "        return return_list\n",
    "\n",
    "\n",
    "    def anonymize_dict(self, analyzer_results: Iterator[DictAnalyzerResult],**kwargs) -> Dict[str, str]:\n",
    "\n",
    "        \"\"\"\n",
    "        Anonymize values in a dictionary.\n",
    "        \n",
    "        :param analyzer_results: Iterator of `DictAnalyzerResult` \n",
    "        containing the output of the AnalyzerEngine.analyze_dict on the input text.\n",
    "        :param kwargs: Additional kwargs for the `AnonymizerEngine.anonymize` method\n",
    "        \"\"\"\n",
    "        \n",
    "        return_dict = {}\n",
    "        for result in analyzer_results:\n",
    "            if isinstance(result.value, str):\n",
    "                resp = self.anonymize(text=result.value, analyzer_results=result.recognizer_results, **kwargs)\n",
    "                return_dict[result.key] = resp.text\n",
    "            elif isinstance(result.value, collections.abc.Iterable):\n",
    "                anonymize_respones = self.anonymize_list(texts=result.value,\n",
    "                                                         recognizer_results_list=result.recognizer_results, \n",
    "                                                         **kwargs)\n",
    "                return_dict[result.key] = anonymize_respones \n",
    "            else:\n",
    "                return_dict[result.key] = result.value\n",
    "\n",
    "        return return_dict"
   ]
  },
  {
   "cell_type": "markdown",
   "id": "c0f07f2c",
   "metadata": {},
   "source": [
    "# 샘플 데이터를 사용한 예"
   ]
  },
  {
   "cell_type": "code",
   "execution_count": 6,
   "id": "a0dbf797",
   "metadata": {},
   "outputs": [],
   "source": [
    "columns = [\"name phrase\",\"phone number phrase\", \"integer\", \"boolean\" ]\n",
    "sample_data = [\n",
    "        ('Morris likes this','Please call 212-555-1234 after 2pm', 1, True),\n",
    "        ('You should talk to Mike','his number is 978-428-7111', 2, False),\n",
    "        ('Mary had a little startup','Phone number: 202-342-1234', 3, False)\n",
    "]"
   ]
  },
  {
   "cell_type": "code",
   "execution_count": 7,
   "id": "ca8549ed",
   "metadata": {},
   "outputs": [
    {
     "data": {
      "text/html": [
       "<div>\n",
       "<style scoped>\n",
       "    .dataframe tbody tr th:only-of-type {\n",
       "        vertical-align: middle;\n",
       "    }\n",
       "\n",
       "    .dataframe tbody tr th {\n",
       "        vertical-align: top;\n",
       "    }\n",
       "\n",
       "    .dataframe thead th {\n",
       "        text-align: right;\n",
       "    }\n",
       "</style>\n",
       "<table border=\"1\" class=\"dataframe\">\n",
       "  <thead>\n",
       "    <tr style=\"text-align: right;\">\n",
       "      <th></th>\n",
       "      <th>name phrase</th>\n",
       "      <th>phone number phrase</th>\n",
       "      <th>integer</th>\n",
       "      <th>boolean</th>\n",
       "    </tr>\n",
       "  </thead>\n",
       "  <tbody>\n",
       "    <tr>\n",
       "      <th>0</th>\n",
       "      <td>Morris likes this</td>\n",
       "      <td>Please call 212-555-1234 after 2pm</td>\n",
       "      <td>1</td>\n",
       "      <td>True</td>\n",
       "    </tr>\n",
       "    <tr>\n",
       "      <th>1</th>\n",
       "      <td>You should talk to Mike</td>\n",
       "      <td>his number is 978-428-7111</td>\n",
       "      <td>2</td>\n",
       "      <td>False</td>\n",
       "    </tr>\n",
       "    <tr>\n",
       "      <th>2</th>\n",
       "      <td>Mary had a little startup</td>\n",
       "      <td>Phone number: 202-342-1234</td>\n",
       "      <td>3</td>\n",
       "      <td>False</td>\n",
       "    </tr>\n",
       "  </tbody>\n",
       "</table>\n",
       "</div>"
      ],
      "text/plain": [
       "                 name phrase                 phone number phrase  integer  \\\n",
       "0          Morris likes this  Please call 212-555-1234 after 2pm        1   \n",
       "1    You should talk to Mike          his number is 978-428-7111        2   \n",
       "2  Mary had a little startup          Phone number: 202-342-1234        3   \n",
       "\n",
       "   boolean  \n",
       "0     True  \n",
       "1    False  \n",
       "2    False  "
      ]
     },
     "execution_count": 7,
     "metadata": {},
     "output_type": "execute_result"
    }
   ],
   "source": [
    "# Create Pandas DataFrame\n",
    "df  = pd.DataFrame(sample_data,columns=columns)\n",
    "\n",
    "df"
   ]
  },
  {
   "cell_type": "code",
   "execution_count": 8,
   "id": "31ab27ba",
   "metadata": {},
   "outputs": [],
   "source": [
    "# DataFrame to dict\n",
    "df_dict = df.to_dict(orient=\"list\")"
   ]
  },
  {
   "cell_type": "code",
   "execution_count": 9,
   "id": "8f62a083",
   "metadata": {},
   "outputs": [
    {
     "name": "stdout",
     "output_type": "stream",
     "text": [
      "{'boolean': [True, False, False],\n",
      " 'integer': [1, 2, 3],\n",
      " 'name phrase': ['Morris likes this',\n",
      "                 'You should talk to Mike',\n",
      "                 'Mary had a little startup'],\n",
      " 'phone number phrase': ['Please call 212-555-1234 after 2pm',\n",
      "                         'his number is 978-428-7111',\n",
      "                         'Phone number: 202-342-1234']}\n"
     ]
    }
   ],
   "source": [
    "pprint.pprint(df_dict)"
   ]
  },
  {
   "cell_type": "code",
   "execution_count": 10,
   "id": "995ae57c",
   "metadata": {},
   "outputs": [],
   "source": [
    "batch_analyzer = BatchAnalyzerEngine()\n",
    "batch_anonymizer = BatchAnonymizerEngine()"
   ]
  },
  {
   "cell_type": "code",
   "execution_count": 11,
   "id": "21f80510",
   "metadata": {},
   "outputs": [],
   "source": [
    "analyzer_results = batch_analyzer.analyze_dict(df_dict, language=\"en\")"
   ]
  },
  {
   "cell_type": "code",
   "execution_count": 12,
   "id": "588b0227",
   "metadata": {},
   "outputs": [],
   "source": [
    "anonymizer_results = batch_anonymizer.anonymize_dict(analyzer_results)"
   ]
  },
  {
   "cell_type": "code",
   "execution_count": 13,
   "id": "f9ec510f",
   "metadata": {},
   "outputs": [],
   "source": [
    "scrubbed_df = pd.DataFrame(anonymizer_results)"
   ]
  },
  {
   "cell_type": "code",
   "execution_count": 14,
   "id": "9712eb17",
   "metadata": {},
   "outputs": [
    {
     "data": {
      "text/html": [
       "<div>\n",
       "<style scoped>\n",
       "    .dataframe tbody tr th:only-of-type {\n",
       "        vertical-align: middle;\n",
       "    }\n",
       "\n",
       "    .dataframe tbody tr th {\n",
       "        vertical-align: top;\n",
       "    }\n",
       "\n",
       "    .dataframe thead th {\n",
       "        text-align: right;\n",
       "    }\n",
       "</style>\n",
       "<table border=\"1\" class=\"dataframe\">\n",
       "  <thead>\n",
       "    <tr style=\"text-align: right;\">\n",
       "      <th></th>\n",
       "      <th>name phrase</th>\n",
       "      <th>phone number phrase</th>\n",
       "      <th>integer</th>\n",
       "      <th>boolean</th>\n",
       "    </tr>\n",
       "  </thead>\n",
       "  <tbody>\n",
       "    <tr>\n",
       "      <th>0</th>\n",
       "      <td>&lt;PERSON&gt; likes this</td>\n",
       "      <td>Please call &lt;PHONE_NUMBER&gt; after &lt;DATE_TIME&gt;</td>\n",
       "      <td>1</td>\n",
       "      <td>True</td>\n",
       "    </tr>\n",
       "    <tr>\n",
       "      <th>1</th>\n",
       "      <td>You should talk to &lt;PERSON&gt;</td>\n",
       "      <td>his number is &lt;PHONE_NUMBER&gt;</td>\n",
       "      <td>2</td>\n",
       "      <td>False</td>\n",
       "    </tr>\n",
       "    <tr>\n",
       "      <th>2</th>\n",
       "      <td>Mary had a little startup</td>\n",
       "      <td>Phone number: &lt;PHONE_NUMBER&gt;</td>\n",
       "      <td>3</td>\n",
       "      <td>False</td>\n",
       "    </tr>\n",
       "  </tbody>\n",
       "</table>\n",
       "</div>"
      ],
      "text/plain": [
       "                   name phrase                           phone number phrase  \\\n",
       "0          <PERSON> likes this  Please call <PHONE_NUMBER> after <DATE_TIME>   \n",
       "1  You should talk to <PERSON>                  his number is <PHONE_NUMBER>   \n",
       "2    Mary had a little startup                  Phone number: <PHONE_NUMBER>   \n",
       "\n",
       "   integer  boolean  \n",
       "0        1     True  \n",
       "1        2    False  \n",
       "2        3    False  "
      ]
     },
     "execution_count": 14,
     "metadata": {},
     "output_type": "execute_result"
    }
   ],
   "source": [
    "scrubbed_df"
   ]
  },
  {
   "cell_type": "code",
   "execution_count": null,
   "id": "031e2a61",
   "metadata": {},
   "outputs": [],
   "source": []
  }
 ],
 "metadata": {
  "kernelspec": {
   "display_name": "Python 3 (ipykernel)",
   "language": "python",
   "name": "python3"
  },
  "language_info": {
   "codemirror_mode": {
    "name": "ipython",
    "version": 3
   },
   "file_extension": ".py",
   "mimetype": "text/x-python",
   "name": "python",
   "nbconvert_exporter": "python",
   "pygments_lexer": "ipython3",
   "version": "3.8.13"
  }
 },
 "nbformat": 4,
 "nbformat_minor": 5
}
