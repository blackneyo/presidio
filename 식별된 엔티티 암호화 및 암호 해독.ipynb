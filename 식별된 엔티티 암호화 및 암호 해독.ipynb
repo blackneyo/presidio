{
 "cells": [
  {
   "cell_type": "code",
   "execution_count": 1,
   "id": "0c5a9d02",
   "metadata": {},
   "outputs": [],
   "source": [
    "from presidio_anonymizer import AnonymizerEngine, DeanonymizeEngine\n",
    "from presidio_anonymizer.entities import RecognizerResult, OperatorResult, OperatorConfig\n",
    "from presidio_anonymizer.operators import Decrypt"
   ]
  },
  {
   "cell_type": "markdown",
   "id": "d0f1e76e",
   "metadata": {},
   "source": [
    "# 식별된 엔터티 암호화 및 암호 해독\n",
    "\n",
    "이 샘플은 Presidio Anonymizer 내장 기능을 사용하여 식별된 엔터티를 암호화하고 해독하는 방법을 보여줍니다.\n",
    "\n",
    "암호화는 CBC 모드에서 AES 암호를 사용하며 암호화 및 복호화 모두에 대한 입력으로 암호화 키가 필요합니다."
   ]
  },
  {
   "cell_type": "code",
   "execution_count": 2,
   "id": "f8427d0d",
   "metadata": {},
   "outputs": [],
   "source": [
    "crypto_key = \"WmZq4t7w!z%C&F)J\""
   ]
  },
  {
   "cell_type": "code",
   "execution_count": 3,
   "id": "53b6519a",
   "metadata": {},
   "outputs": [
    {
     "data": {
      "text/plain": [
       "text: My name is 0yPFHBW1qn9Tfy+7G4u9gjpkNjYx/OVgEs7xfu/ic8w=\n",
       "items:\n",
       "[\n",
       "    {'start': 11, 'end': 55, 'entity_type': 'PERSON', 'text': '0yPFHBW1qn9Tfy+7G4u9gjpkNjYx/OVgEs7xfu/ic8w=', 'operator': 'encrypt'}\n",
       "]"
      ]
     },
     "execution_count": 3,
     "metadata": {},
     "output_type": "execute_result"
    }
   ],
   "source": [
    "engine = AnonymizerEngine()\n",
    "\n",
    "# Invoke the anonymize function with the text,\n",
    "# analyzer results (potentially coming from presidio-analyzer)\n",
    "# and an 'encrypt' operator to get an encrypted anonymization output:\n",
    "anonymize_result = engine.anonymize(\n",
    "    text=\"My name is James Bond\",\n",
    "    analyzer_results=[\n",
    "        RecognizerResult(entity_type=\"PERSON\", start=11, end=21, score=0.8),\n",
    "    ],\n",
    "    operators={\"PERSON\": OperatorConfig(\"encrypt\", {\"key\": crypto_key})},\n",
    ")\n",
    "\n",
    "anonymize_result"
   ]
  },
  {
   "cell_type": "code",
   "execution_count": 4,
   "id": "93931c85",
   "metadata": {},
   "outputs": [],
   "source": [
    "# Fetch the anonymized text from the result.\n",
    "anonymized_text = anonymize_result.text\n",
    "\n",
    "# Fetch the anonynized entities from the result.\n",
    "anonymized_entities = anonymize_result.items"
   ]
  },
  {
   "cell_type": "code",
   "execution_count": 5,
   "id": "70df1427",
   "metadata": {},
   "outputs": [
    {
     "data": {
      "text/plain": [
       "text: My name is James Bond\n",
       "items:\n",
       "[\n",
       "    {'start': 11, 'end': 21, 'entity_type': 'PERSON', 'text': 'James Bond', 'operator': 'decrypt'}\n",
       "]"
      ]
     },
     "execution_count": 5,
     "metadata": {},
     "output_type": "execute_result"
    }
   ],
   "source": [
    "# Initialize the engine:\n",
    "engine = DeanonymizeEngine()\n",
    "\n",
    "# Invoke the deanonymize function with the text, anonymizer results\n",
    "# and a 'decrypt' operator to get the original text as output.\n",
    "deanonymized_result = engine.deanonymize(\n",
    "    text=anonymized_text,\n",
    "    entities=anonymized_entities,\n",
    "    operators={\"DEFAULT\": OperatorConfig(\"decrypt\", {\"key\": crypto_key})},\n",
    ")\n",
    "\n",
    "deanonymized_result"
   ]
  },
  {
   "cell_type": "code",
   "execution_count": 6,
   "id": "07150709",
   "metadata": {},
   "outputs": [
    {
     "data": {
      "text/plain": [
       "'James Bond'"
      ]
     },
     "execution_count": 6,
     "metadata": {},
     "output_type": "execute_result"
    }
   ],
   "source": [
    "# Alternatively, call the Decrypt operator directly:\n",
    "\n",
    "# Fetch the encrypted entitiy value from the previous stage\n",
    "encrypted_entity_value = anonymize_result.items[0].text\n",
    "\n",
    "# Restore the original entity value\n",
    "Decrypt().operate(text=encrypted_entity_value, params={\"key\": crypto_key})"
   ]
  },
  {
   "cell_type": "markdown",
   "id": "8423dd07",
   "metadata": {},
   "source": [
    "가져오기 설정"
   ]
  },
  {
   "cell_type": "markdown",
   "id": "57a2c1fe",
   "metadata": {},
   "source": [
    "\n",
    "암호화 키 정의(암호화 및 복호화 모두)"
   ]
  },
  {
   "cell_type": "markdown",
   "id": "ade97cee",
   "metadata": {},
   "source": [
    "\n",
    "Presidio Anonymizer: 암호화"
   ]
  },
  {
   "cell_type": "markdown",
   "id": "ed89b496",
   "metadata": {},
   "source": [
    "Presidio Anonymizer: 복호화"
   ]
  },
  {
   "cell_type": "code",
   "execution_count": null,
   "id": "eee88ae5",
   "metadata": {},
   "outputs": [],
   "source": []
  }
 ],
 "metadata": {
  "kernelspec": {
   "display_name": "Python 3 (ipykernel)",
   "language": "python",
   "name": "python3"
  },
  "language_info": {
   "codemirror_mode": {
    "name": "ipython",
    "version": 3
   },
   "file_extension": ".py",
   "mimetype": "text/x-python",
   "name": "python",
   "nbconvert_exporter": "python",
   "pygments_lexer": "ipython3",
   "version": "3.8.13"
  }
 },
 "nbformat": 4,
 "nbformat_minor": 5
}
