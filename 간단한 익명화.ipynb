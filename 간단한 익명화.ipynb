{
 "cells": [
  {
   "cell_type": "markdown",
   "id": "5c2dd5aa",
   "metadata": {},
   "source": [
    "식별된 PII 엔터티가 있으면 해당 엔터티에 대해 다양한 비식별화 작업을 수행할 수 있습니다. 지원되는 연산자에 대한 자세한 내용 은 익명화 문서 를 참조하십시오 .\n",
    "\n",
    "익명화에는 각 엔터티 유형에 대해 요청된 작업을 지정하는 구성이 필요합니다. PII 엔터티를 엔터티 유형 이름으로 바꾸는 기본 연산자도 있습니다.\n",
    "\n",
    "각 운영자는 작업(수정, 해시, 마스크, 바꾸기, 암호화 등)을 수행하는 데 필요한 매개변수가 있는 고유한 구성을 가지고 있습니다.\n",
    "\n",
    "다음은 presidio-anonymizer를 사용하는 간단한 예입니다."
   ]
  },
  {
   "cell_type": "code",
   "execution_count": 4,
   "id": "851d7ad8",
   "metadata": {},
   "outputs": [
    {
     "name": "stdout",
     "output_type": "stream",
     "text": [
      "De-identified text\n",
      "My name is <PERSON>, <PERSON>\n"
     ]
    }
   ],
   "source": [
    "from presidio_anonymizer import AnonymizerEngine\n",
    "from presidio_anonymizer.entities import RecognizerResult\n",
    "\n",
    "# Analyzer output\n",
    "analyzer_results = [\n",
    "    RecognizerResult(entity_type=\"PERSON\", start=11, end=15, score=0.8),\n",
    "    RecognizerResult(entity_type=\"PERSON\", start=17, end=27, score=0.8),\n",
    "]\n",
    "\n",
    "# Initialize the engine:\n",
    "engine = AnonymizerEngine()\n",
    "\n",
    "# Invoke the anonymize function with the text,\n",
    "# analyzer results (potentially coming from presidio-analyzer) and\n",
    "# Operators to get the anonymization output:\n",
    "result = engine.anonymize(\n",
    "    text=\"My name is Bond, James Bond\", analyzer_results=analyzer_results\n",
    ")\n",
    "\n",
    "print(\"De-identified text\")\n",
    "print(result.text)"
   ]
  },
  {
   "cell_type": "markdown",
   "id": "19987d97",
   "metadata": {},
   "source": [
    "추가 연산자를 도입하기 위해 OperatorConfig. 이 예에서 우리는:\n",
    "\n",
    "1. PHONE_NUMBER엔터티 의 마지막 12자를 마스킹하고 다음으로 바꿉니다.*\n",
    "\n",
    "2. TITLE항목 수정\n",
    "3. 다른 모든 엔터티를 문자열로 바꿉니다 <ANONYMIZED>."
   ]
  },
  {
   "cell_type": "markdown",
   "id": "8c9acf0f",
   "metadata": {},
   "source": [
    "전체 예:"
   ]
  },
  {
   "cell_type": "code",
   "execution_count": 7,
   "id": "2285b519",
   "metadata": {},
   "outputs": [
    {
     "name": "stdout",
     "output_type": "stream",
     "text": [
      "text: My name is <ANONYMIZED>, <ANONYMIZED>\n",
      "detailed result:\n",
      "{'items': [{'end': 37,\n",
      "            'entity_type': 'PERSON',\n",
      "            'operator': 'replace',\n",
      "            'start': 25,\n",
      "            'text': '<ANONYMIZED>'},\n",
      "           {'end': 23,\n",
      "            'entity_type': 'PERSON',\n",
      "            'operator': 'replace',\n",
      "            'start': 11,\n",
      "            'text': '<ANONYMIZED>'}],\n",
      " 'text': 'My name is <ANONYMIZED>, <ANONYMIZED>'}\n"
     ]
    }
   ],
   "source": [
    "from pprint import pprint\n",
    "import json\n",
    "\n",
    "from presidio_anonymizer import AnonymizerEngine\n",
    "from presidio_anonymizer.entities import OperatorConfig, RecognizerResult\n",
    "\n",
    "\n",
    "# Analyzer output\n",
    "analyzer_results = [\n",
    "    RecognizerResult(entity_type=\"PERSON\", start=11, end=15, score=0.8),\n",
    "    RecognizerResult(entity_type=\"PERSON\", start=17, end=27, score=0.8),\n",
    "]\n",
    "\n",
    "text_to_anonymize = \"My name is Bond, James Bond\"\n",
    "\n",
    "anonymizer = AnonymizerEngine()\n",
    "\n",
    "# Define anonymization operators\n",
    "operators = {\n",
    "    \"DEFAULT\": OperatorConfig(\"replace\", {\"new_value\": \"<ANONYMIZED>\"}),\n",
    "    \"PHONE_NUMBER\": OperatorConfig(\n",
    "        \"mask\",\n",
    "        {\n",
    "            \"type\": \"mask\",\n",
    "            \"masking_char\": \"*\",\n",
    "            \"chars_to_mask\": 12,\n",
    "            \"from_end\": True,\n",
    "        },\n",
    "    ),\n",
    "    \"TITLE\": OperatorConfig(\"redact\", {}),\n",
    "}\n",
    "\n",
    "anonymized_results = anonymizer.anonymize(\n",
    "    text=text_to_anonymize, analyzer_results=analyzer_results, operators=operators\n",
    ")\n",
    "\n",
    "print(f\"text: {anonymized_results.text}\")\n",
    "print(\"detailed result:\")\n",
    "\n",
    "pprint(json.loads(anonymized_results.to_json()))\n"
   ]
  },
  {
   "cell_type": "code",
   "execution_count": null,
   "id": "412803fb",
   "metadata": {},
   "outputs": [],
   "source": []
  }
 ],
 "metadata": {
  "kernelspec": {
   "display_name": "Python 3 (ipykernel)",
   "language": "python",
   "name": "python3"
  },
  "language_info": {
   "codemirror_mode": {
    "name": "ipython",
    "version": 3
   },
   "file_extension": ".py",
   "mimetype": "text/x-python",
   "name": "python",
   "nbconvert_exporter": "python",
   "pygments_lexer": "ipython3",
   "version": "3.8.13"
  }
 },
 "nbformat": 4,
 "nbformat_minor": 5
}
