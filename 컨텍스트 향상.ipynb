{
 "cells": [
  {
   "cell_type": "markdown",
   "id": "c0db9561",
   "metadata": {},
   "source": [
    "# 문맥 단어 활용\n",
    "\n",
    "먼저 간단한 US_ZIP_CODE인식기를 만들어 보겠습니다."
   ]
  },
  {
   "cell_type": "code",
   "execution_count": 1,
   "id": "a5482ddf",
   "metadata": {},
   "outputs": [
    {
     "name": "stdout",
     "output_type": "stream",
     "text": [
      "Result:\n",
      " [type: US_ZIP_CODE, start: 15, end: 20, score: 0.01]\n"
     ]
    }
   ],
   "source": [
    "from presidio_analyzer import (\n",
    "    Pattern,\n",
    "    PatternRecognizer,\n",
    "    RecognizerRegistry,\n",
    "    AnalyzerEngine,\n",
    ")\n",
    "\n",
    "# Define the regex pattern\n",
    "regex = r\"(\\b\\d{5}(?:\\-\\d{4})?\\b)\"  # very weak regex pattern\n",
    "zipcode_pattern = Pattern(name=\"zip code (weak)\", regex=regex, score=0.01)\n",
    "\n",
    "# Define the recognizer with the defined pattern\n",
    "zipcode_recognizer = PatternRecognizer(\n",
    "    supported_entity=\"US_ZIP_CODE\", patterns=[zipcode_pattern]\n",
    ")\n",
    "\n",
    "registry = RecognizerRegistry()\n",
    "registry.add_recognizer(zipcode_recognizer)\n",
    "analyzer = AnalyzerEngine(registry=registry)\n",
    "\n",
    "# Test\n",
    "results = analyzer.analyze(text=\"My zip code is 90210\", language=\"en\")\n",
    "\n",
    "print(f\"Result:\\n {results}\")\n"
   ]
  },
  {
   "cell_type": "markdown",
   "id": "3d5acb09",
   "metadata": {},
   "source": [
    "이것은 작동하지만 5자리 문자열을 잡을 것입니다. 이것이 우리가 점수를 0.01로 설정한 이유입니다. 점수를 높이기 위해 문맥 단어를 사용합시다:"
   ]
  },
  {
   "cell_type": "code",
   "execution_count": 3,
   "id": "ddc3de55",
   "metadata": {},
   "outputs": [],
   "source": [
    "from presidio_analyzer import PatternRecognizer\n",
    "\n",
    "# Define the recognizer with the defined pattern and context words\n",
    "zipcode_recognizer_w_context = PatternRecognizer(\n",
    "    supported_entity = \"US_ZIP_CODE\",\n",
    "    patterns=[zipcode_pattern],\n",
    "    context=[\"zip\", \"zipcode\"],\n",
    ")"
   ]
  },
  {
   "cell_type": "code",
   "execution_count": 4,
   "id": "bc43d84a",
   "metadata": {},
   "outputs": [
    {
     "name": "stdout",
     "output_type": "stream",
     "text": [
      "Result:\n",
      "[type: US_ZIP_CODE, start: 15, end: 20, score: 0.4]\n"
     ]
    }
   ],
   "source": [
    "from presidio_analyzer import AnalyzerEngine, RecognizerRegistry\n",
    "\n",
    "registry = RecognizerRegistry()\n",
    "registry.add_recognizer(zipcode_recognizer_w_context)\n",
    "analyzer = AnalyzerEngine(registry=registry)\n",
    "\n",
    "# Test\n",
    "results = analyzer.analyze(text=\"My zip code is 90210\", language=\"en\")\n",
    "print(\"Result:\")\n",
    "print(results)"
   ]
  },
  {
   "cell_type": "markdown",
   "id": "f2c82aa1",
   "metadata": {},
   "source": [
    "생성할 때 매개변수 AnalyzerEngine에 전달하여 자체 컨텍스트 향상 논리를 제공할 수 있습니다 context_aware_enhancer. 전달되지 않으면 기본적으로 AnalyzerEngine생성 되며, 인식기가 컨텍스트 단어를 보유하고 해당 단어의 보조 정리가 일치하는 엔터티 주변에서 발견되는 경우 일치하는 각 결과의 점수를 향상시킵니다.LemmaContextAwareEnhancer"
   ]
  },
  {
   "cell_type": "markdown",
   "id": "15c3625d",
   "metadata": {},
   "source": [
    "# AnalyzerEngine새 인식기 생성 및 추가:"
   ]
  },
  {
   "cell_type": "code",
   "execution_count": 5,
   "id": "a828289c",
   "metadata": {},
   "outputs": [
    {
     "name": "stdout",
     "output_type": "stream",
     "text": [
      "Result:\n",
      "[type: US_ZIP_CODE, start: 15, end: 20, score: 0.4]\n"
     ]
    }
   ],
   "source": [
    "from presidio_analyzer import AnalyzerEngine, RecognizerRegistry\n",
    "\n",
    "registry = RecognizerRegistry()\n",
    "registry.add_recognizer(zipcode_recognizer_w_context)\n",
    "analyzer = AnalyzerEngine(registry=registry)\n",
    "\n",
    "# Test\n",
    "results = analyzer.analyze(text=\"My zip code is 90210\", language=\"en\")\n",
    "print(\"Result:\")\n",
    "print(results)"
   ]
  },
  {
   "cell_type": "markdown",
   "id": "3438cfef",
   "metadata": {},
   "source": [
    "LemmaContextAwareEnhancer기본 컨텍스트 유사성 계수가 0.35이고 컨텍스트 유사성이 있는 기본 최소 점수가 0.4 이기 때문에 신뢰 점수는 이제 0.01이 아닌 0.4입니다. 객체 의 context_similarity_factor및 min_score_with_context_similarity매개변수에 다른 값을 전달하여 변경할 수 있습니다 . \n",
    "\n",
    "LemmaContextAwareEnhancer예를 들어:"
   ]
  },
  {
   "cell_type": "code",
   "execution_count": 8,
   "id": "1aa7fc02",
   "metadata": {},
   "outputs": [
    {
     "name": "stdout",
     "output_type": "stream",
     "text": [
      "Result:\n",
      "[type: US_ZIP_CODE, start: 15, end: 20, score: 0.01]\n"
     ]
    }
   ],
   "source": [
    "from presidio_analyzer import AnalyzerEngine, RecognizerRegistry\n",
    "from presidio_analyzer.context_aware_enhancers import LemmaContextAwareEnhancer\n",
    "\n",
    "context_aware_enhancer = LemmaContextAwareEnhancer(\n",
    "    context_similarity_factor=0.45, min_score_with_context_similarity=0.4\n",
    ")\n",
    "\n",
    "registry = RecognizerRegistry()\n",
    "registry.add_recognizer(zipcode_recognizer)\n",
    "analyzer = AnalyzerEngine(\n",
    "    registry=registry, context_aware_enhancer=context_aware_enhancer\n",
    ")\n",
    "\n",
    "# Test\n",
    "results = analyzer.analyze(text=\"My zip code is 90210\", language=\"en\")\n",
    "print(\"Result:\")\n",
    "print(results)"
   ]
  },
  {
   "cell_type": "markdown",
   "id": "9cd0d480",
   "metadata": {},
   "source": [
    "신뢰도 점수는 0.01에서 0.45로 향상되었으며 최소값인 0.4보다 높기 때문에 이제 0.46입니다.\n",
    "\n",
    "주변 단어 외에도 추가 컨텍스트 단어가 요청 수준에서 전달될 수 있습니다. 이것은 열 이름 또는 특정 사용자 입력과 같은 메타데이터에서 오는 컨텍스트가 있을 때 유용합니다. 다음 예에서 \"zip\" 컨텍스트 단어가 텍스트에 나타나지 않지만 여전히 신뢰도 점수를 0.01에서 0.4로 향상시키는 방법에 주목하십시오."
   ]
  },
  {
   "cell_type": "code",
   "execution_count": 10,
   "id": "c0e2eeae",
   "metadata": {},
   "outputs": [
    {
     "name": "stdout",
     "output_type": "stream",
     "text": [
      "Result:\n",
      "[type: US_ZIP_CODE, start: 11, end: 16, score: 0.4]\n"
     ]
    }
   ],
   "source": [
    "from presidio_analyzer import AnalyzerEngine, RecognizerRegistry, PatternRecognizer\n",
    "\n",
    "# Define the recognizer with the defined pattern and context words\n",
    "zipcode_recognizer = PatternRecognizer(\n",
    "    supported_entity=\"US_ZIP_CODE\",\n",
    "    patterns=[zipcode_pattern],\n",
    "    context=[\"zip\", \"zipcode\"],\n",
    ")\n",
    "registry = RecognizerRegistry()\n",
    "registry.add_recognizer(zipcode_recognizer)\n",
    "analyzer = AnalyzerEngine(registry=registry)\n",
    "\n",
    "# Test with an example record having a column name which could be injected as context\n",
    "record = {\"column_name\": \"zip\", \"text\": \"My code is 90210\"}\n",
    "\n",
    "result = analyzer.analyze(\n",
    "    text=record[\"text\"], language=\"en\", context=[record[\"column_name\"]]\n",
    ")\n",
    "\n",
    "print(\"Result:\")\n",
    "print(result)\n"
   ]
  },
  {
   "cell_type": "markdown",
   "id": "4b4c0583",
   "metadata": {},
   "source": [
    "# 예 7: 결정 프로세스 추적\n",
    "\n",
    "우편 번호 값이 감지된 방법을 이해하기 위해 결정 프로세스 출력을 사용하겠습니다."
   ]
  },
  {
   "cell_type": "code",
   "execution_count": 1,
   "id": "ebf93bfd",
   "metadata": {},
   "outputs": [
    {
     "name": "stdout",
     "output_type": "stream",
     "text": [
      "Decision process output:\n",
      "\n",
      "{'original_score': 0.85,\n",
      " 'pattern': None,\n",
      " 'pattern_name': None,\n",
      " 'recognizer': 'SpacyRecognizer',\n",
      " 'score': 0.85,\n",
      " 'score_context_improvement': 0,\n",
      " 'supportive_context_word': '',\n",
      " 'textual_explanation': \"Identified as DATE by Spacy's Named Entity \"\n",
      "                        'Recognition',\n",
      " 'validation_result': None}\n"
     ]
    }
   ],
   "source": [
    "from presidio_analyzer import AnalyzerEngine\n",
    "import pprint\n",
    "\n",
    "analyzer = AnalyzerEngine()\n",
    "\n",
    "results = analyzer.analyze(\n",
    "    text=\"My zip code is 90210\", language=\"en\", return_decision_process=True\n",
    ")\n",
    "\n",
    "decision_process = results[0].analysis_explanation\n",
    "\n",
    "pp = pprint.PrettyPrinter()\n",
    "print(\"Decision process output:\\n\")\n",
    "pp.pprint(decision_process.__dict__)\n"
   ]
  },
  {
   "cell_type": "code",
   "execution_count": null,
   "id": "5ef21193",
   "metadata": {},
   "outputs": [],
   "source": []
  }
 ],
 "metadata": {
  "kernelspec": {
   "display_name": "Python 3 (ipykernel)",
   "language": "python",
   "name": "python3"
  },
  "language_info": {
   "codemirror_mode": {
    "name": "ipython",
    "version": 3
   },
   "file_extension": ".py",
   "mimetype": "text/x-python",
   "name": "python",
   "nbconvert_exporter": "python",
   "pygments_lexer": "ipython3",
   "version": "3.8.13"
  }
 },
 "nbformat": 4,
 "nbformat_minor": 5
}
