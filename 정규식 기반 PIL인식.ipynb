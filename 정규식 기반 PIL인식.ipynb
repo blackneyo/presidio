{
 "cells": [
  {
   "cell_type": "markdown",
   "id": "c380150e",
   "metadata": {},
   "source": [
    "추가할 수 있는 또 다른 간단한 인식기는 정규식을 기반으로 합니다. 극도로 보수적이고 숫자가 포함된 토큰을 PII로 취급한다고 가정해 보겠습니다."
   ]
  },
  {
   "cell_type": "code",
   "execution_count": 1,
   "id": "358aa899",
   "metadata": {},
   "outputs": [],
   "source": [
    "from presidio_analyzer import Pattern, PatternRecognizer\n",
    "\n",
    "# Define the regex pattern in a Presidio `Pattern` object:\n",
    "numbers_pattern = Pattern(name=\"numbers_pattern\", regex=\"\\d+\", score=0.5)\n",
    "\n",
    "# Define the recognizer with one or more patterns\n",
    "number_recognizer = PatternRecognizer(\n",
    "    supported_entity=\"NUMBER\", patterns=[numbers_pattern]\n",
    ")"
   ]
  },
  {
   "cell_type": "markdown",
   "id": "d6b23f9d",
   "metadata": {},
   "source": [
    "인식기 자체 테스트:"
   ]
  },
  {
   "cell_type": "code",
   "execution_count": 2,
   "id": "404221f4",
   "metadata": {},
   "outputs": [
    {
     "name": "stdout",
     "output_type": "stream",
     "text": [
      "Result:\n",
      "[type: NUMBER, start: 10, end: 13, score: 0.5]\n"
     ]
    }
   ],
   "source": [
    "text2 = \"I live in 510 Broad st.\"\n",
    "\n",
    "numbers_result = number_recognizer.analyze(text=text2, entities=[\"NUMBER\"])\n",
    "\n",
    "print(\"Result:\")\n",
    "print(numbers_result)\n"
   ]
  }
 ],
 "metadata": {
  "kernelspec": {
   "display_name": "Python 3 (ipykernel)",
   "language": "python",
   "name": "python3"
  },
  "language_info": {
   "codemirror_mode": {
    "name": "ipython",
    "version": 3
   },
   "file_extension": ".py",
   "mimetype": "text/x-python",
   "name": "python",
   "nbconvert_exporter": "python",
   "pygments_lexer": "ipython3",
   "version": "3.8.13"
  }
 },
 "nbformat": 4,
 "nbformat_minor": 5
}
