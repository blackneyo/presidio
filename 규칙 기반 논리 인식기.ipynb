{
 "cells": [
  {
   "cell_type": "markdown",
   "id": "14480679",
   "metadata": {},
   "source": [
    "숫자 인식기를 한 단계 더 발전시켜 \"Number One\"과 같이 단어 내에서 숫자를 감지하고 싶다고 가정해 보겠습니다. 기본 spaCy토큰 속성을 활용하거나 자체 논리를 작성하여 이러한 엔터티를 감지할 수 있습니다."
   ]
  },
  {
   "cell_type": "markdown",
   "id": "65042267",
   "metadata": {},
   "source": [
    "메모:\n",
    "\n",
    "EntityRecognizer이 예제에서는 Presidio의 기본 인식기 를 구현하는 새 클래스를 만듭니다 . 이 추상 클래스를 사용하려면 load메서드와 analyze메서드를 구현해야 합니다.\n",
    "\n",
    "각 인식기는 NlpArtifacts입력 텍스트에 대해 미리 계산된 속성을 보유하는 type 의 개체를 허용합니다.\n",
    "\n",
    "새 인식기는 다음 구조를 가져야 합니다."
   ]
  },
  {
   "cell_type": "code",
   "execution_count": 1,
   "id": "9591849a",
   "metadata": {},
   "outputs": [],
   "source": [
    "from typing import List\n",
    "from presidio_analyzer import EntityRecognizer, RecognizerResult\n",
    "from presidio_analyzer.nlp_engine import NlpArtifacts\n",
    "\n",
    "\n",
    "class MyRecognizer(EntityRecognizer):\n",
    "    def load(self) -> None:\n",
    "        \"\"\"No loading is required.\"\"\"\n",
    "        pass\n",
    "\n",
    "    def analyze(\n",
    "        self, text: str, entities: List[str], nlp_artifacts: NlpArtifacts\n",
    "    ) -> List[RecognizerResult]:\n",
    "        \"\"\"\n",
    "        Logic for detecting a specific PII\n",
    "        \"\"\"\n",
    "        pass"
   ]
  },
  {
   "cell_type": "markdown",
   "id": "ddefe2f3",
   "metadata": {},
   "source": [
    "예를 들어 숫자 또는 알파벳(예: 45) 형식의 숫자 감지:"
   ]
  },
  {
   "cell_type": "code",
   "execution_count": 2,
   "id": "84595144",
   "metadata": {},
   "outputs": [],
   "source": [
    "from typing import List\n",
    "from presidio_analyzer import EntityRecognizer, RecognizerResult\n",
    "from presidio_analyzer.nlp_engine import NlpArtifacts\n",
    "\n",
    "\n",
    "class NumbersRecognizer(EntityRecognizer):\n",
    "\n",
    "    expected_confidence_level = 0.7  # expected confidence level for this recognizer\n",
    "\n",
    "    def load(self) -> None:\n",
    "        \"\"\"No loading is required.\"\"\"\n",
    "        pass\n",
    "\n",
    "    def analyze(\n",
    "        self, text: str, entities: List[str], nlp_artifacts: NlpArtifacts\n",
    "    ) -> List[RecognizerResult]:\n",
    "        \"\"\"\n",
    "        Analyzes test to find tokens which represent numbers (either 123 or One Two Three).\n",
    "        \"\"\"\n",
    "        results = []\n",
    "\n",
    "        # iterate over the spaCy tokens, and call `token.like_num`\n",
    "        for token in nlp_artifacts.tokens:\n",
    "            if token.like_num:\n",
    "                result = RecognizerResult(\n",
    "                    entity_type=\"NUMBER\",\n",
    "                    start=token.idx,\n",
    "                    end=token.idx + len(token),\n",
    "                    score=self.expected_confidence_level,\n",
    "                )\n",
    "                results.append(result)\n",
    "        return results\n",
    "\n",
    "\n",
    "# Instantiate the new NumbersRecognizer:\n",
    "new_numbers_recognizer = NumbersRecognizer(supported_entities=[\"NUMBER\"])\n"
   ]
  },
  {
   "cell_type": "markdown",
   "id": "d90a3979",
   "metadata": {},
   "source": [
    "이 인식기는 를 필요로 하므로 흐름 NlpArtifacts의 일부로 호출해야 합니다 .AnalyzerEngine"
   ]
  },
  {
   "cell_type": "code",
   "execution_count": 3,
   "id": "eb1ab4f8",
   "metadata": {},
   "outputs": [
    {
     "name": "stdout",
     "output_type": "stream",
     "text": [
      "Results:\n",
      "type: PERSON, start: 0, end: 7, score: 0.85\n",
      "type: NUMBER, start: 17, end: 21, score: 0.7\n",
      "type: NUMBER, start: 22, end: 24, score: 0.7\n"
     ]
    }
   ],
   "source": [
    "from presidio_analyzer import AnalyzerEngine\n",
    "\n",
    "text3 = \"Roberto lives in Five 10 Broad st.\"\n",
    "analyzer = AnalyzerEngine()\n",
    "analyzer.registry.add_recognizer(new_numbers_recognizer)\n",
    "\n",
    "numbers_results2 = analyzer.analyze(text=text3, language=\"en\")\n",
    "print(\"Results:\")\n",
    "print(\"\\n\".join([str(res) for res in numbers_results2]))"
   ]
  },
  {
   "cell_type": "markdown",
   "id": "e4ac462b",
   "metadata": {},
   "source": [
    "분석기는 다른 인식기(이 경우 PERSON)에서 다른 유형의 PII 엔터티를 포함하여 숫자 및 알파벳 숫자를 모두 선택할 수 있었습니다."
   ]
  },
  {
   "cell_type": "code",
   "execution_count": null,
   "id": "4e0c3bf7",
   "metadata": {},
   "outputs": [],
   "source": []
  }
 ],
 "metadata": {
  "kernelspec": {
   "display_name": "Python 3 (ipykernel)",
   "language": "python",
   "name": "python3"
  },
  "language_info": {
   "codemirror_mode": {
    "name": "ipython",
    "version": 3
   },
   "file_extension": ".py",
   "mimetype": "text/x-python",
   "name": "python",
   "nbconvert_exporter": "python",
   "pygments_lexer": "ipython3",
   "version": "3.8.13"
  }
 },
 "nbformat": 4,
 "nbformat_minor": 5
}
