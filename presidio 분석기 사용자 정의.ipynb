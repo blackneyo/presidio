{
 "cells": [
  {
   "cell_type": "markdown",
   "id": "8978ae57",
   "metadata": {},
   "source": [
    "# Microsoft Presidio에서 PII 분석 프로세스 사용자 지정\n",
    "\n",
    "이 노트북은 다음과 같은 다양한 사용자 정의 사용 사례를 다룹니다.\n",
    "\n",
    "1. 새로운 유형의 PII 엔터티를 감지하도록 Presidio 조정\n",
    "\n",
    "2. 새로운 언어로 PII 엔터티를 감지하도록 Presidio 조정\n",
    "\n",
    "3. 새로운 유형의 감지 모듈을 Presidio에 포함하여 서비스 범위를 개선합니다."
   ]
  },
  {
   "cell_type": "code",
   "execution_count": 1,
   "id": "552fbbd5",
   "metadata": {},
   "outputs": [],
   "source": [
    "from typing import List\n",
    "import pprint\n",
    "\n",
    "from presidio_analyzer import AnalyzerEngine, PatternRecognizer, EntityRecognizer, Pattern, RecognizerResult\n",
    "from presidio_analyzer.recognizer_registry import RecognizerRegistry\n",
    "from presidio_analyzer.nlp_engine import NlpEngine, SpacyNlpEngine, NlpArtifacts\n",
    "from presidio_analyzer.context_aware_enhancers import LemmaContextAwareEnhancer"
   ]
  },
  {
   "cell_type": "markdown",
   "id": "7632bacb",
   "metadata": {},
   "source": [
    "# 예1 : 거부 목록 기반 PII 인식\n",
    "\n",
    "PII 처리 토큰 정의 / 이 경우 제목 목록이 됨"
   ]
  },
  {
   "cell_type": "code",
   "execution_count": 2,
   "id": "07f8dd57",
   "metadata": {},
   "outputs": [],
   "source": [
    "titles_list = [\"Sir\", \"Ma'am\", \"Madam\", \"Mr.\", \"Mrs.\", \"Ms.\", \"Miss\", \"Dr.\", \"Professor\"]"
   ]
  },
  {
   "cell_type": "markdown",
   "id": "9b552806",
   "metadata": {},
   "source": [
    "PatternRecognizer두 번째로 다음 을 전달하여 해당 제목을 스캔 하는 which를 생성해 보겠습니다 deny_list."
   ]
  },
  {
   "cell_type": "code",
   "execution_count": 3,
   "id": "904a2863",
   "metadata": {},
   "outputs": [],
   "source": [
    "titles_recognizer = PatternRecognizer(supported_entity=\"TITLE\", deny_list=titles_list)"
   ]
  },
  {
   "cell_type": "markdown",
   "id": "adff3306",
   "metadata": {},
   "source": [
    "인식기를 직접 호출"
   ]
  },
  {
   "cell_type": "code",
   "execution_count": 4,
   "id": "15f2abdb",
   "metadata": {},
   "outputs": [
    {
     "name": "stdout",
     "output_type": "stream",
     "text": [
      "Result:\n",
      " [type: TITLE, start: 10, end: 19, score: 1.0]\n"
     ]
    }
   ],
   "source": [
    "text1 = \"I suspect Professor Plum, in the Dining Room, with the candlestick\"\n",
    "result = titles_recognizer.analyze(text1, entities=[\"TITLE\"])\n",
    "print(f\"Result:\\n {result}\")"
   ]
  },
  {
   "cell_type": "markdown",
   "id": "792dab89",
   "metadata": {},
   "source": [
    "\n",
    "마지막으로 이 새로운 인식기를 Presidio에서 사용하는 인식기 목록에 추가해 보겠습니다 AnalyzerEngine."
   ]
  },
  {
   "cell_type": "code",
   "execution_count": 5,
   "id": "ae322346",
   "metadata": {},
   "outputs": [],
   "source": [
    "analyzer = AnalyzerEngine()\n",
    "analyzer.registry.add_recognizer(titles_recognizer)"
   ]
  },
  {
   "cell_type": "markdown",
   "id": "548270f3",
   "metadata": {},
   "source": [
    "AnalyzerEnginePresidio는 NlpEngine엔티티를 감지하고 토큰, 보조 정리 및 기타 언어 기능을 추출하는 데 사용되는 것을 포함하여 사용 가능한 모든 인식기를 로드"
   ]
  },
  {
   "cell_type": "markdown",
   "id": "51d2a6ca",
   "metadata": {},
   "source": [
    "새 인식기를 제자리에 놓고 분석기를 실행해 보겠습니다."
   ]
  },
  {
   "cell_type": "code",
   "execution_count": 6,
   "id": "8664ce89",
   "metadata": {},
   "outputs": [],
   "source": [
    "results = analyzer.analyze(text=text1, language=\"en\")"
   ]
  },
  {
   "cell_type": "code",
   "execution_count": 7,
   "id": "14414bc9",
   "metadata": {},
   "outputs": [
    {
     "name": "stdout",
     "output_type": "stream",
     "text": [
      "Results:\n",
      "[type: TITLE, start: 10, end: 19, score: 1.0, type: PERSON, start: 20, end: 24, score: 0.85]\n"
     ]
    }
   ],
   "source": [
    "print(\"Results:\")\n",
    "print(results)"
   ]
  },
  {
   "cell_type": "markdown",
   "id": "d3e119a4",
   "metadata": {},
   "source": [
    "\"Plum\"이라는 이름과 제목이 모두 PII로 식별"
   ]
  },
  {
   "cell_type": "code",
   "execution_count": 8,
   "id": "c273f2d5",
   "metadata": {},
   "outputs": [
    {
     "name": "stdout",
     "output_type": "stream",
     "text": [
      "Identified these PII entities:\n",
      "- Professor as TITLE\n",
      "- Plum as PERSON\n"
     ]
    }
   ],
   "source": [
    "print(\"Identified these PII entities:\")\n",
    "for result in results:\n",
    "    print(f\"- {text1[result.start:result.end]} as {result.entity_type}\")"
   ]
  },
  {
   "cell_type": "markdown",
   "id": "fced0ab6",
   "metadata": {},
   "source": [
    "# 예 2: 정규식 기반 PII 인식\n",
    "\n",
    "추가할 수 있는 또 다른 간단한 인식기는 정규식을 기반으로 합니다.\n",
    "\n",
    "극도로 보수적이고 숫자가 포함된 토큰을 PII로 취급한다고 가정해 보겠습니다.\n"
   ]
  },
  {
   "cell_type": "code",
   "execution_count": 9,
   "id": "3b3976a9",
   "metadata": {},
   "outputs": [],
   "source": [
    "# Define the regex pattern in a Presidio `Pattern` object:\n",
    "numbers_pattern = Pattern(name=\"numbers_pattern\",regex=\"\\d+\", score = 0.5)\n",
    "\n",
    "# Define the recognizer with one or more patterns\n",
    "number_recognizer = PatternRecognizer(supported_entity=\"NUMBER\", patterns = [numbers_pattern])"
   ]
  },
  {
   "cell_type": "code",
   "execution_count": 10,
   "id": "760de7f9",
   "metadata": {},
   "outputs": [
    {
     "name": "stdout",
     "output_type": "stream",
     "text": [
      "Result:\n",
      "[type: NUMBER, start: 10, end: 13, score: 0.5]\n"
     ]
    }
   ],
   "source": [
    "text2 = \"I live in 510 Broad st.\"\n",
    "\n",
    "numbers_result = number_recognizer.analyze(text=text2, entities=[\"NUMBER\"])\n",
    "print(\"Result:\")\n",
    "print(numbers_result)"
   ]
  },
  {
   "cell_type": "markdown",
   "id": "ef6c4dd9",
   "metadata": {},
   "source": [
    " Presidio에 통합하기 전에 대표적인 데이터 세트에서 각 인식기를 테스트하는 것을 고려하십시오. \n",
    " \n",
    " 자세한 내용은 인식기 개발 모범 사례 문서를 참조하세요 .\n",
    " \n",
    " https://microsoft.github.io/presidio/analyzer/developing_recognizers/"
   ]
  },
  {
   "cell_type": "markdown",
   "id": "20c08802",
   "metadata": {},
   "source": [
    "# 예 3: 규칙 기반 논리 인식기\n",
    "\n",
    "숫자 인식기를 한 단계 더 발전시켜 \"Number One\"과 같이 단어 내에서 숫자를 감지하고 싶다고 가정해 보겠습니다.\n",
    "\n",
    "기본 spaCy 토큰 속성을 활용하거나 자체 논리를 작성하여 이러한 엔터티를 감지할 수 있습니다.\n",
    "\n",
    "1. EntityRecognizer이 예제에서는 Presidio의 기본 인식기 를 구현하는 새 클래스를 만듭니다 . 이 추상 클래스를 사용하려면 load메서드와 analyze메서드를 구현해야 합니다.\n",
    "\n",
    "2. 각 인식기는 NlpArtifacts입력 텍스트에 대해 미리 계산된 속성을 보유하는 type 의 개체를 허용합니다."
   ]
  },
  {
   "cell_type": "code",
   "execution_count": 11,
   "id": "c8e47e41",
   "metadata": {},
   "outputs": [],
   "source": [
    "class MyRecognizer(EntityRecognizer):\n",
    "    \n",
    "    def load(self) -> None:\n",
    "        \"\"\"No loading is required.\"\"\"\n",
    "        pass\n",
    "\n",
    "    def analyze(self, text: str, entities: List[str], nlp_artifacts: NlpArtifacts) -> List[RecognizerResult]:\n",
    "        \"\"\"\n",
    "        Logic for detecting a specific PII\n",
    "        \"\"\"\n",
    "        pass\n"
   ]
  },
  {
   "cell_type": "code",
   "execution_count": 12,
   "id": "c77c5c1e",
   "metadata": {},
   "outputs": [],
   "source": [
    "class NumbersRecognizer(EntityRecognizer):\n",
    "    \n",
    "    expected_confidence_level = 0.7 # expected confidence level for this recognizer\n",
    "    \n",
    "    def load(self) -> None:\n",
    "        \"\"\"No loading is required.\"\"\"\n",
    "        pass\n",
    "\n",
    "    def analyze(\n",
    "        self, text: str, entities: List[str], nlp_artifacts: NlpArtifacts\n",
    "    ) -> List[RecognizerResult]:\n",
    "        \"\"\"\n",
    "        Analyzes test to find tokens which represent numbers (either 123 or One Two Three).\n",
    "        \"\"\"\n",
    "        results = []\n",
    "        \n",
    "        # iterate over the spaCy tokens, and call `token.like_num`\n",
    "        for token in nlp_artifacts.tokens:\n",
    "            if token.like_num:\n",
    "                result = RecognizerResult(\n",
    "                    entity_type=\"NUMBER\",\n",
    "                    start=token.idx,\n",
    "                    end=token.idx + len(token),\n",
    "                    score=self.expected_confidence_level\n",
    "                )\n",
    "                results.append(result)\n",
    "        return results\n"
   ]
  },
  {
   "cell_type": "code",
   "execution_count": 13,
   "id": "6aa9dd59",
   "metadata": {},
   "outputs": [],
   "source": [
    "new_numbers_recognizer = NumbersRecognizer(supported_entities=[\"NUMBER\"])"
   ]
  },
  {
   "cell_type": "code",
   "execution_count": 19,
   "id": "69eaea14",
   "metadata": {},
   "outputs": [
    {
     "name": "stdout",
     "output_type": "stream",
     "text": [
      "Results:\n",
      "type: PERSON, start: 0, end: 7, score: 0.85\n",
      "type: NUMBER, start: 17, end: 21, score: 0.7\n",
      "type: NUMBER, start: 22, end: 24, score: 0.7\n"
     ]
    }
   ],
   "source": [
    "text3 = \"Roberto lives in Five 10 Broad st.\"\n",
    "analyzer = AnalyzerEngine()\n",
    "analyzer.registry.add_recognizer(new_numbers_recognizer)\n",
    "\n",
    "numbers_results2 = analyzer.analyze(text=text3, language=\"en\")\n",
    "print(\"Results:\")\n",
    "print(\"\\n\".join([str(res) for res in numbers_results2]))"
   ]
  },
  {
   "cell_type": "markdown",
   "id": "d0376940",
   "metadata": {},
   "source": [
    "# 예 5: 새로운 언어 지원\n",
    "\n",
    "Presidio의 두 가지 주요 부분은 텍스트를 처리하며 새로운 언어가 필요한 경우 수정해야 합니다.\n",
    "\n",
    "1. NlpEngine토큰화, 표제화, 명명된 엔티티 인식 및 기타 NLP 작업을 수행하는 NLP 모델을 포함합니다 .\n",
    "\n",
    "2. 다른 PII 인식기( EntityRecognizer객체)를 조정하거나 생성해야 합니다."
   ]
  },
  {
   "cell_type": "markdown",
   "id": "46ea8228",
   "metadata": {},
   "source": [
    "# NLP 엔진 적응\n",
    "\n",
    "내부 NLP 엔진인 Presidio는 spaCy와 Stanza를 모두 지원합니다. \n",
    "\n",
    "사용하기 전에 space/stanza에서 필요한 모델을 다운로드했는지 확인하십시오. \n",
    "\n",
    "자세한 내용은 여기를 참조하십시오 . \n",
    "\n",
    "예를 들어, 스페인어 중형 spaCy 모델을 다운로드하려면:python -m spacy download es_core_news_md\n",
    "\n",
    "이 예에서는 영어와 스페인어로 된 NLP 모델과 함께 기본 NLP 프레임워크로 spaCy를 사용하도록 Presidio를 구성합니다."
   ]
  },
  {
   "cell_type": "code",
   "execution_count": 22,
   "id": "a1aa76d0",
   "metadata": {},
   "outputs": [
    {
     "name": "stdout",
     "output_type": "stream",
     "text": [
      "Collecting es-core-news-md==3.3.0"
     ]
    },
    {
     "name": "stderr",
     "output_type": "stream",
     "text": [
      "2022-06-16 14:45:40.763029: W tensorflow/stream_executor/platform/default/dso_loader.cc:64] Could not load dynamic library 'cudart64_110.dll'; dlerror: cudart64_110.dll not found\n",
      "2022-06-16 14:45:40.763305: I tensorflow/stream_executor/cuda/cudart_stub.cc:29] Ignore above cudart dlerror if you do not have a GPU set up on your machine.\n"
     ]
    },
    {
     "name": "stdout",
     "output_type": "stream",
     "text": [
      "\n",
      "  Downloading https://github.com/explosion/spacy-models/releases/download/es_core_news_md-3.3.0/es_core_news_md-3.3.0-py3-none-any.whl (42.3 MB)\n",
      "     ---------------------------------------- 42.3/42.3 MB 7.9 MB/s eta 0:00:00\n",
      "Requirement already satisfied: spacy<3.4.0,>=3.3.0.dev0 in c:\\users\\4lab\\anaconda3\\envs\\p38\\lib\\site-packages (from es-core-news-md==3.3.0) (3.3.1)\n",
      "Requirement already satisfied: setuptools in c:\\users\\4lab\\anaconda3\\envs\\p38\\lib\\site-packages (from spacy<3.4.0,>=3.3.0.dev0->es-core-news-md==3.3.0) (62.3.3)\n",
      "Requirement already satisfied: cymem<2.1.0,>=2.0.2 in c:\\users\\4lab\\anaconda3\\envs\\p38\\lib\\site-packages (from spacy<3.4.0,>=3.3.0.dev0->es-core-news-md==3.3.0) (2.0.6)\n",
      "Requirement already satisfied: spacy-legacy<3.1.0,>=3.0.9 in c:\\users\\4lab\\anaconda3\\envs\\p38\\lib\\site-packages (from spacy<3.4.0,>=3.3.0.dev0->es-core-news-md==3.3.0) (3.0.9)\n",
      "Requirement already satisfied: srsly<3.0.0,>=2.4.3 in c:\\users\\4lab\\anaconda3\\envs\\p38\\lib\\site-packages (from spacy<3.4.0,>=3.3.0.dev0->es-core-news-md==3.3.0) (2.4.3)\n",
      "Requirement already satisfied: tqdm<5.0.0,>=4.38.0 in c:\\users\\4lab\\anaconda3\\envs\\p38\\lib\\site-packages (from spacy<3.4.0,>=3.3.0.dev0->es-core-news-md==3.3.0) (4.64.0)\n",
      "Requirement already satisfied: pathy>=0.3.5 in c:\\users\\4lab\\anaconda3\\envs\\p38\\lib\\site-packages (from spacy<3.4.0,>=3.3.0.dev0->es-core-news-md==3.3.0) (0.6.1)\n",
      "Requirement already satisfied: numpy>=1.15.0 in c:\\users\\4lab\\anaconda3\\envs\\p38\\lib\\site-packages (from spacy<3.4.0,>=3.3.0.dev0->es-core-news-md==3.3.0) (1.22.3)\n",
      "Requirement already satisfied: jinja2 in c:\\users\\4lab\\anaconda3\\envs\\p38\\lib\\site-packages (from spacy<3.4.0,>=3.3.0.dev0->es-core-news-md==3.3.0) (3.0.3)\n",
      "Requirement already satisfied: typer<0.5.0,>=0.3.0 in c:\\users\\4lab\\anaconda3\\envs\\p38\\lib\\site-packages (from spacy<3.4.0,>=3.3.0.dev0->es-core-news-md==3.3.0) (0.4.1)\n",
      "Requirement already satisfied: catalogue<2.1.0,>=2.0.6 in c:\\users\\4lab\\anaconda3\\envs\\p38\\lib\\site-packages (from spacy<3.4.0,>=3.3.0.dev0->es-core-news-md==3.3.0) (2.0.7)\n",
      "Requirement already satisfied: langcodes<4.0.0,>=3.2.0 in c:\\users\\4lab\\anaconda3\\envs\\p38\\lib\\site-packages (from spacy<3.4.0,>=3.3.0.dev0->es-core-news-md==3.3.0) (3.3.0)\n",
      "Requirement already satisfied: preshed<3.1.0,>=3.0.2 in c:\\users\\4lab\\anaconda3\\envs\\p38\\lib\\site-packages (from spacy<3.4.0,>=3.3.0.dev0->es-core-news-md==3.3.0) (3.0.6)\n",
      "Requirement already satisfied: requests<3.0.0,>=2.13.0 in c:\\users\\4lab\\anaconda3\\envs\\p38\\lib\\site-packages (from spacy<3.4.0,>=3.3.0.dev0->es-core-news-md==3.3.0) (2.27.1)\n",
      "Requirement already satisfied: murmurhash<1.1.0,>=0.28.0 in c:\\users\\4lab\\anaconda3\\envs\\p38\\lib\\site-packages (from spacy<3.4.0,>=3.3.0.dev0->es-core-news-md==3.3.0) (1.0.7)\n",
      "Requirement already satisfied: wasabi<1.1.0,>=0.9.1 in c:\\users\\4lab\\anaconda3\\envs\\p38\\lib\\site-packages (from spacy<3.4.0,>=3.3.0.dev0->es-core-news-md==3.3.0) (0.9.1)\n",
      "Requirement already satisfied: pydantic!=1.8,!=1.8.1,<1.9.0,>=1.7.4 in c:\\users\\4lab\\anaconda3\\envs\\p38\\lib\\site-packages (from spacy<3.4.0,>=3.3.0.dev0->es-core-news-md==3.3.0) (1.7.4)\n",
      "Requirement already satisfied: spacy-loggers<2.0.0,>=1.0.0 in c:\\users\\4lab\\anaconda3\\envs\\p38\\lib\\site-packages (from spacy<3.4.0,>=3.3.0.dev0->es-core-news-md==3.3.0) (1.0.2)\n",
      "Requirement already satisfied: thinc<8.1.0,>=8.0.14 in c:\\users\\4lab\\anaconda3\\envs\\p38\\lib\\site-packages (from spacy<3.4.0,>=3.3.0.dev0->es-core-news-md==3.3.0) (8.0.17)\n",
      "Requirement already satisfied: packaging>=20.0 in c:\\users\\4lab\\anaconda3\\envs\\p38\\lib\\site-packages (from spacy<3.4.0,>=3.3.0.dev0->es-core-news-md==3.3.0) (21.3)\n",
      "Requirement already satisfied: blis<0.8.0,>=0.4.0 in c:\\users\\4lab\\anaconda3\\envs\\p38\\lib\\site-packages (from spacy<3.4.0,>=3.3.0.dev0->es-core-news-md==3.3.0) (0.7.7)\n",
      "Requirement already satisfied: pyparsing!=3.0.5,>=2.0.2 in c:\\users\\4lab\\anaconda3\\envs\\p38\\lib\\site-packages (from packaging>=20.0->spacy<3.4.0,>=3.3.0.dev0->es-core-news-md==3.3.0) (3.0.4)\n",
      "Requirement already satisfied: smart-open<6.0.0,>=5.0.0 in c:\\users\\4lab\\anaconda3\\envs\\p38\\lib\\site-packages (from pathy>=0.3.5->spacy<3.4.0,>=3.3.0.dev0->es-core-news-md==3.3.0) (5.2.1)\n",
      "Requirement already satisfied: charset-normalizer~=2.0.0 in c:\\users\\4lab\\anaconda3\\envs\\p38\\lib\\site-packages (from requests<3.0.0,>=2.13.0->spacy<3.4.0,>=3.3.0.dev0->es-core-news-md==3.3.0) (2.0.12)\n",
      "Requirement already satisfied: idna<4,>=2.5 in c:\\users\\4lab\\anaconda3\\envs\\p38\\lib\\site-packages (from requests<3.0.0,>=2.13.0->spacy<3.4.0,>=3.3.0.dev0->es-core-news-md==3.3.0) (3.3)\n",
      "Requirement already satisfied: urllib3<1.27,>=1.21.1 in c:\\users\\4lab\\anaconda3\\envs\\p38\\lib\\site-packages (from requests<3.0.0,>=2.13.0->spacy<3.4.0,>=3.3.0.dev0->es-core-news-md==3.3.0) (1.26.9)\n",
      "Requirement already satisfied: certifi>=2017.4.17 in c:\\users\\4lab\\anaconda3\\envs\\p38\\lib\\site-packages (from requests<3.0.0,>=2.13.0->spacy<3.4.0,>=3.3.0.dev0->es-core-news-md==3.3.0) (2022.5.18.1)\n",
      "Requirement already satisfied: colorama in c:\\users\\4lab\\anaconda3\\envs\\p38\\lib\\site-packages (from tqdm<5.0.0,>=4.38.0->spacy<3.4.0,>=3.3.0.dev0->es-core-news-md==3.3.0) (0.4.4)\n",
      "Requirement already satisfied: click<9.0.0,>=7.1.1 in c:\\users\\4lab\\anaconda3\\envs\\p38\\lib\\site-packages (from typer<0.5.0,>=0.3.0->spacy<3.4.0,>=3.3.0.dev0->es-core-news-md==3.3.0) (8.1.2)\n",
      "Requirement already satisfied: MarkupSafe>=2.0 in c:\\users\\4lab\\anaconda3\\envs\\p38\\lib\\site-packages (from jinja2->spacy<3.4.0,>=3.3.0.dev0->es-core-news-md==3.3.0) (2.0.1)\n",
      "Installing collected packages: es-core-news-md\n",
      "Successfully installed es-core-news-md-3.3.0\n",
      "[+] Download and installation successful\n",
      "You can now load the package via spacy.load('es_core_news_md')\n"
     ]
    }
   ],
   "source": [
    "!python -m spacy download es_core_news_md"
   ]
  },
  {
   "cell_type": "code",
   "execution_count": 23,
   "id": "e17d3d6d",
   "metadata": {},
   "outputs": [
    {
     "name": "stdout",
     "output_type": "stream",
     "text": [
      "Results from Spanish request:\n",
      "[]\n",
      "Results from English request:\n",
      "[type: PERSON, start: 11, end: 17, score: 0.85]\n"
     ]
    }
   ],
   "source": [
    "from presidio_analyzer.nlp_engine import NlpEngineProvider\n",
    "\n",
    "#import spacy\n",
    "#spacy.cli.download(\"es_core_news_md\")\n",
    "\n",
    "# Create configuration containing engine name and models\n",
    "configuration = {\n",
    "    \"nlp_engine_name\": \"spacy\",\n",
    "    \"models\": [{\"lang_code\": \"es\", \"model_name\": \"es_core_news_md\"},\n",
    "               {\"lang_code\": \"en\", \"model_name\": \"en_core_web_lg\"}],\n",
    "}\n",
    "\n",
    "# Create NLP engine based on configuration\n",
    "provider = NlpEngineProvider(nlp_configuration=configuration)\n",
    "nlp_engine_with_spanish = provider.create_engine()\n",
    "\n",
    "# Pass the created NLP engine and supported_languages to the AnalyzerEngine\n",
    "analyzer = AnalyzerEngine(\n",
    "    nlp_engine=nlp_engine_with_spanish, \n",
    "    supported_languages=[\"en\", \"es\"]\n",
    ")\n",
    "\n",
    "# Analyze in different languages\n",
    "results_spanish = analyzer.analyze(text=\"Mi nombre es Morris\", language=\"es\")\n",
    "print(\"Results from Spanish request:\")\n",
    "print(results_spanish)\n",
    "\n",
    "results_english = analyzer.analyze(text=\"My name is Morris\", language=\"en\")\n",
    "print(\"Results from English request:\")\n",
    "print(results_english)"
   ]
  },
  {
   "cell_type": "markdown",
   "id": "b93a9efd",
   "metadata": {},
   "source": [
    "Presidio 지원 추가 NLP 모델 및 언어를 구성하는 방법에 대한 자세한 내용 은 이 문서 를 참조하십시오.\n",
    "\n",
    "https://microsoft.github.io/presidio/analyzer/languages/"
   ]
  },
  {
   "cell_type": "markdown",
   "id": "b622f1c1",
   "metadata": {},
   "source": [
    "# 예 6: 문맥 단어 사용하기\n",
    "\n",
    "Presidio에는 컨텍스트 단어를 활용하기 위한 내부 메커니즘이 있습니다.\n",
    "\n",
    "이 메커니즘은 특정 단어가 그 앞이나 뒤에 나타나는 경우 PII 엔터티의 탐지 신뢰도를 높입니다.\n",
    "\n",
    "이 예에서는 먼저 컨텍스트 없이 우편 번호 인식기를 구현한 다음 컨텍스트를 추가하여 신뢰도가 어떻게 변경되는지 확인합니다.\n",
    "\n",
    "Zip 정규식 패턴(기본적으로 5자리)은 매우 주이므로 초기 신뢰도를 낮추고 컨텍스트 단어의 존재와 함께 증가하기를 원합니다."
   ]
  },
  {
   "cell_type": "code",
   "execution_count": 24,
   "id": "e8e061e1",
   "metadata": {},
   "outputs": [
    {
     "name": "stdout",
     "output_type": "stream",
     "text": [
      "Result:\n",
      " [type: US_ZIP_CODE, start: 15, end: 20, score: 0.01]\n"
     ]
    }
   ],
   "source": [
    "# Define the regex pattern\n",
    "regex = r\"(\\b\\d{5}(?:\\-\\d{4})?\\b)\" # very weak regex pattern\n",
    "zipcode_pattern = Pattern(name=\"zip code (weak)\", regex=regex, score=0.01)\n",
    "\n",
    "# Define the recognizer with the defined pattern\n",
    "zipcode_recognizer = PatternRecognizer(supported_entity=\"US_ZIP_CODE\", patterns = [zipcode_pattern])\n",
    "\n",
    "registry = RecognizerRegistry()\n",
    "registry.add_recognizer(zipcode_recognizer)\n",
    "analyzer = AnalyzerEngine(registry=registry)\n",
    "\n",
    "# Test\n",
    "results = analyzer.analyze(text=\"My zip code is 90210\",language=\"en\")\n",
    "print(f\"Result:\\n {results}\")"
   ]
  },
  {
   "cell_type": "markdown",
   "id": "7946790a",
   "metadata": {},
   "source": [
    "따라서 이것은 작동하지만 5자리 문자열을 잡을 것입니다. \n",
    "\n",
    "이것이 우리가 점수를 0.01로 설정한 이유입니다. \n",
    "\n",
    "점수를 높이기 위해 문맥 단어를 사용합시다:"
   ]
  },
  {
   "cell_type": "code",
   "execution_count": 25,
   "id": "9d21f0c9",
   "metadata": {},
   "outputs": [],
   "source": [
    "# Define the recognizer with the defined pattern and context words\n",
    "zipcode_recognizer = PatternRecognizer(supported_entity=\"US_ZIP_CODE\", \n",
    "                                       patterns = [zipcode_pattern],\n",
    "                                       context= [\"zip\",\"zipcode\"])"
   ]
  },
  {
   "cell_type": "markdown",
   "id": "12e40c8f",
   "metadata": {},
   "source": [
    "\n",
    "생성할 때 매개변수 AnalyzerEngine에 전달하여 자체 컨텍스트 향상 논리를 제공할 수 있습니다 context_aware_enhancer.\n",
    "\n",
    "AnalyzerEngine전달되지 않은 경우 기본적으로 생성 LemmaContextAwareEnhancer되며,\n",
    "\n",
    "인식기가 컨텍스트 단어를 보유하고 해당 단어가 일치하는 엔터티의 컨텍스트에서 발견되는 경우 각 일치 결과의 점수가 향상됩니다."
   ]
  },
  {
   "cell_type": "code",
   "execution_count": 26,
   "id": "37d81954",
   "metadata": {},
   "outputs": [],
   "source": [
    "registry = RecognizerRegistry()\n",
    "registry.add_recognizer(zipcode_recognizer)\n",
    "analyzer = AnalyzerEngine(registry=registry)"
   ]
  },
  {
   "cell_type": "code",
   "execution_count": 27,
   "id": "f44434f5",
   "metadata": {},
   "outputs": [
    {
     "name": "stdout",
     "output_type": "stream",
     "text": [
      "Result:\n",
      "[type: US_ZIP_CODE, start: 15, end: 20, score: 0.4]\n"
     ]
    }
   ],
   "source": [
    "# Test\n",
    "results = analyzer.analyze(text=\"My zip code is 90210\",language=\"en\")\n",
    "print(\"Result:\")\n",
    "print(results)"
   ]
  },
  {
   "cell_type": "markdown",
   "id": "caf167be",
   "metadata": {},
   "source": [
    "이제 신뢰도 점수는 0.01이 아닌 0.4입니다.\n",
    "\n",
    "기본 컨텍스트 유사성 계수는 ​​0.35이고 컨텍스트 유사성이 있는 기본 최소 점수는 0.4 이므로 및 매개변수를 값이 아닌 다른 값 LemmaContextAwareEnhancer으로 전달하여 변경할 수 있습니다.\n",
    "\n",
    "예를 들면 다음과 같습니다.\n",
    "\n",
    "context_similarity_factormin_score_with_context_similarityLemmaContextAwareEnhancer"
   ]
  },
  {
   "cell_type": "code",
   "execution_count": 28,
   "id": "5f0ebdb6",
   "metadata": {},
   "outputs": [],
   "source": [
    "registry = RecognizerRegistry()\n",
    "registry.add_recognizer(zipcode_recognizer)\n",
    "analyzer = AnalyzerEngine(\n",
    "    registry=registry,\n",
    "    context_aware_enhancer=\n",
    "        LemmaContextAwareEnhancer(context_similarity_factor=0.45, min_score_with_context_similarity=0.4))"
   ]
  },
  {
   "cell_type": "code",
   "execution_count": 29,
   "id": "6ca5d0b0",
   "metadata": {},
   "outputs": [
    {
     "name": "stdout",
     "output_type": "stream",
     "text": [
      "Result:\n",
      "[type: US_ZIP_CODE, start: 15, end: 20, score: 0.46]\n"
     ]
    }
   ],
   "source": [
    "# Test\n",
    "results = analyzer.analyze(text=\"My zip code is 90210\",language=\"en\")\n",
    "print(\"Result:\")\n",
    "print(results)"
   ]
  },
  {
   "cell_type": "markdown",
   "id": "f69817b3",
   "metadata": {},
   "source": [
    "신뢰도 점수는 0.01에서 0.45로 향상되었으며 최소값이 0.4 이상이므로 이제 0.46입니다.\n",
    "\n",
    "\n",
    "Presidio는 분석기 수준에서 외부 컨텍스트 목록 전달을 지원합니다. \n",
    "\n",
    "이는 텍스트가 특정 열 또는 특정 사용자 입력 등에서 오는 경우에 유용합니다. \n",
    "\n",
    "\"zip\" 컨텍스트 단어가 텍스트에 나타나지 않지만 여전히 향상되는 방식에 주목하십시오. \n",
    "\n",
    "0.01에서 0.4까지의 신뢰 점수:"
   ]
  },
  {
   "cell_type": "code",
   "execution_count": 30,
   "id": "7fd0bb68",
   "metadata": {},
   "outputs": [
    {
     "name": "stdout",
     "output_type": "stream",
     "text": [
      "Result:\n",
      "[type: US_ZIP_CODE, start: 11, end: 16, score: 0.4]\n"
     ]
    }
   ],
   "source": [
    "# Define the recognizer with the defined pattern and context words\n",
    "zipcode_recognizer = PatternRecognizer(supported_entity=\"US_ZIP_CODE\",\n",
    "                                       patterns = [zipcode_pattern],\n",
    "                                       context= [\"zip\",\"zipcode\"])\n",
    "\n",
    "registry = RecognizerRegistry()\n",
    "registry.add_recognizer(zipcode_recognizer)\n",
    "analyzer = AnalyzerEngine(registry=registry)\n",
    "\n",
    "# Test\n",
    "result = analyzer.analyze(text=\"My code is 90210\",language=\"en\", context=[\"zip\"])\n",
    "print(\"Result:\")\n",
    "print(result)"
   ]
  },
  {
   "cell_type": "markdown",
   "id": "a90c1a85",
   "metadata": {},
   "source": [
    "# 예 7: 결정 프로세스 추적\n",
    "\n",
    "Presidio-analyzer의 결정 프로세스는 특정 PII가 감지된 이유에 대한 정보를 노출합니다. 이러한 정보에는 다음이 포함될 수 있습니다.\n",
    "\n",
    "1. 엔터티를 감지한 인식기\n",
    "\n",
    "2. 사용된 정규식 패턴\n",
    "\n",
    "3. ML 모델의 해석 가능성 메커니즘\n",
    "\n",
    "4. 어떤 문맥 단어가 점수를 향상시켰는지\n",
    "\n",
    "5. 각 단계 전후의 자신감 점수 등.\n",
    "\n",
    "자세한 내용은 의사결정 프로세스 문서 를 참조하십시오 .\n",
    "\n",
    "https://microsoft.github.io/presidio/analyzer/decision_process/\n",
    "\n",
    "우편 번호 값이 감지된 방법을 이해하기 위해 결정 프로세스 출력을 사용하겠습니다."
   ]
  },
  {
   "cell_type": "code",
   "execution_count": 31,
   "id": "82e27d9c",
   "metadata": {},
   "outputs": [
    {
     "name": "stdout",
     "output_type": "stream",
     "text": [
      "Decision process output:\n",
      "\n",
      "{'original_score': 0.01,\n",
      " 'pattern': '(\\\\b\\\\d{5}(?:\\\\-\\\\d{4})?\\\\b)',\n",
      " 'pattern_name': 'zip code (weak)',\n",
      " 'recognizer': 'PatternRecognizer',\n",
      " 'score': 0.4,\n",
      " 'score_context_improvement': 0.39,\n",
      " 'supportive_context_word': 'zip',\n",
      " 'textual_explanation': None,\n",
      " 'validation_result': None}\n"
     ]
    }
   ],
   "source": [
    "results = analyzer.analyze(text=\"My zip code is 90210\",language=\"en\", return_decision_process = True)\n",
    "decision_process = results[0].analysis_explanation\n",
    "\n",
    "pp = pprint.PrettyPrinter()\n",
    "print(\"Decision process output:\\n\")\n",
    "pp.pprint(decision_process.__dict__)"
   ]
  },
  {
   "cell_type": "code",
   "execution_count": null,
   "id": "bc49b204",
   "metadata": {},
   "outputs": [],
   "source": []
  }
 ],
 "metadata": {
  "kernelspec": {
   "display_name": "Python 3 (ipykernel)",
   "language": "python",
   "name": "python3"
  },
  "language_info": {
   "codemirror_mode": {
    "name": "ipython",
    "version": 3
   },
   "file_extension": ".py",
   "mimetype": "text/x-python",
   "name": "python",
   "nbconvert_exporter": "python",
   "pygments_lexer": "ipython3",
   "version": "3.8.13"
  }
 },
 "nbformat": 4,
 "nbformat_minor": 5
}
