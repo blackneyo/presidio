{
 "cells": [
  {
   "cell_type": "code",
   "execution_count": 1,
   "id": "2559f213",
   "metadata": {},
   "outputs": [],
   "source": [
    "from presidio_analyzer import AnalyzerEngine\n",
    "from presidio_anonymizer import AnonymizerEngine\n",
    "from presidio_anonymizer.entities import OperatorConfig\n",
    "from faker import Faker\n",
    "from faker.providers import internet"
   ]
  },
  {
   "cell_type": "code",
   "execution_count": 2,
   "id": "85bd11e4",
   "metadata": {},
   "outputs": [],
   "source": [
    "def reverse_string(x):\n",
    "    \"\"\"Return string in reverse order.\"\"\"\n",
    "    return x[::-1]"
   ]
  },
  {
   "cell_type": "code",
   "execution_count": 4,
   "id": "a21e30d5",
   "metadata": {},
   "outputs": [],
   "source": [
    "def anonymize_reverse_lambda(analyzer_results, text_to_anonymize):\n",
    "    \"\"\"Anonymize using an example lambda.\"\"\"\n",
    "    anonymized_results = anonymizer.anonymize(\n",
    "        text=text_to_anonymize,\n",
    "        analyzer_results=analyzer_results,\n",
    "        operators={\n",
    "            \"EMAIL_ADDRESS\": OperatorConfig(\"custom\", {\"lambda\": lambda x: x[::-1]})\n",
    "        },\n",
    "    )\n",
    "\n",
    "    return anonymized_results"
   ]
  },
  {
   "cell_type": "code",
   "execution_count": 5,
   "id": "99926e86",
   "metadata": {},
   "outputs": [],
   "source": [
    "def anonymize_faker_lambda(analyzer_results, text_to_anonymize):\n",
    "    \"\"\"Anonymize using a faker provider.\"\"\"\n",
    "    \n",
    "    anonymized_results = anonymizer.anonymize(\n",
    "        text=text_to_anonymize,\n",
    "        analyzer_results=analyzer_results,\n",
    "        operators={\n",
    "            \"EMAIL_ADDRESS\" : OperatorConfig(\n",
    "                \"custom\", {\"lambda\": lambda x: fake.safe_email()}\n",
    "            )\n",
    "        },\n",
    "    )\n",
    "    \n",
    "    return anonymized_results"
   ]
  },
  {
   "cell_type": "code",
   "execution_count": 6,
   "id": "c7d4f86b",
   "metadata": {},
   "outputs": [
    {
     "name": "stdout",
     "output_type": "stream",
     "text": [
      "Original Text: The user has the following two emails: email1@contoso.com and email2@contoso.com\n",
      "Analyzer result: [type: EMAIL_ADDRESS, start: 39, end: 57, score: 1.0, type: EMAIL_ADDRESS, start: 62, end: 80, score: 1.0]\n",
      "\n",
      "Reverse lambda result: The user has the following two emails: moc.osotnoc@1liame and moc.osotnoc@2liame\n",
      "Faker lambda result: The user has the following two emails: douglas42@example.com and tracyyoung@example.org\n"
     ]
    }
   ],
   "source": [
    "if __name__ == \"__main__\":\n",
    "    fake = Faker(\"en_US\")\n",
    "    fake.add_provider(internet)\n",
    "    \n",
    "    analyzer = AnalyzerEngine()\n",
    "    anonymizer = AnonymizerEngine()\n",
    "    \n",
    "    text = \"The user has the following two emails: email1@contoso.com and email2@contoso.com\"  # noqa E501\n",
    "    analyzer_results = analyzer.analyze(\n",
    "        text=text, entities=[\"EMAIL_ADDRESS\"], language=\"en\"\n",
    "    )\n",
    "    print(f\"Original Text: {text}\")\n",
    "    print(f\"Analyzer result: {analyzer_results}\\n\")\n",
    "    \n",
    "    print(\n",
    "        f\"Reverse lambda result: {anonymize_reverse_lambda(analyzer_results, text).text}\"\n",
    "    )\n",
    "    print(f\"Faker lambda result: {anonymize_faker_lambda(analyzer_results, text).text}\")"
   ]
  },
  {
   "cell_type": "code",
   "execution_count": null,
   "id": "44e71cbf",
   "metadata": {},
   "outputs": [],
   "source": []
  }
 ],
 "metadata": {
  "kernelspec": {
   "display_name": "Python 3 (ipykernel)",
   "language": "python",
   "name": "python3"
  },
  "language_info": {
   "codemirror_mode": {
    "name": "ipython",
    "version": 3
   },
   "file_extension": ".py",
   "mimetype": "text/x-python",
   "name": "python",
   "nbconvert_exporter": "python",
   "pygments_lexer": "ipython3",
   "version": "3.8.13"
  }
 },
 "nbformat": 4,
 "nbformat_minor": 5
}
